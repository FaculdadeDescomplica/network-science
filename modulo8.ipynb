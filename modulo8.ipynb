{
 "cells": [
  {
   "cell_type": "code",
   "execution_count": null,
   "outputs": [],
   "source": [
    "import networkx as nx\n",
    "import matplotlib.pyplot as plt\n",
    "import pandas as pd\n",
    "import numpy as np\n",
    "import requests\n",
    "import EoN"
   ],
   "metadata": {
    "collapsed": false
   }
  },
  {
   "cell_type": "code",
   "execution_count": null,
   "outputs": [],
   "source": [
    "def download_file(url):\n",
    "    file_path = url.split('/')[-1]\n",
    "    resp = requests.get(url)\n",
    "    with open(file_path, 'wb') as f:\n",
    "        f.write(resp.content)\n",
    "    return file_path"
   ],
   "metadata": {
    "collapsed": false
   }
  },
  {
   "cell_type": "markdown",
   "source": [
    "# 1. Epidemias e marketing viral"
   ],
   "metadata": {
    "collapsed": false
   }
  },
  {
   "cell_type": "markdown",
   "source": [
    "## Tempo para propagação"
   ],
   "metadata": {
    "collapsed": false
   }
  },
  {
   "cell_type": "code",
   "execution_count": null,
   "outputs": [],
   "source": [
    "G = nx.path_graph(5)\n",
    "nx.draw_networkx(G)"
   ],
   "metadata": {
    "collapsed": false
   }
  },
  {
   "cell_type": "code",
   "execution_count": null,
   "outputs": [],
   "source": [
    "nx.eccentricity(G)"
   ],
   "metadata": {
    "collapsed": false
   }
  },
  {
   "cell_type": "markdown",
   "source": [
    "O **centro** da rede indica os nós que propagam informações rapidamente:"
   ],
   "metadata": {
    "collapsed": false
   }
  },
  {
   "cell_type": "code",
   "execution_count": null,
   "outputs": [],
   "source": [
    "nx.center(G)"
   ],
   "metadata": {
    "collapsed": false
   }
  },
  {
   "cell_type": "code",
   "execution_count": null,
   "outputs": [],
   "source": [
    "G = nx.barbell_graph(6, 2)\n",
    "nx.draw_networkx(G)"
   ],
   "metadata": {
    "collapsed": false
   }
  },
  {
   "cell_type": "code",
   "execution_count": null,
   "outputs": [],
   "source": [
    "nx.center(G)"
   ],
   "metadata": {
    "collapsed": false
   }
  },
  {
   "cell_type": "code",
   "execution_count": null,
   "outputs": [],
   "source": [
    "nx.eccentricity(G, 6)"
   ],
   "metadata": {
    "collapsed": false
   }
  },
  {
   "cell_type": "markdown",
   "source": [
    "## Modelo de epidemia\n",
    "Biblioteca `EoN` (*Epidemics on Networks*)\n",
    "\n",
    "https://epidemicsonnetworks.readthedocs.io/en/latest/EoN.html"
   ],
   "metadata": {
    "collapsed": false
   }
  },
  {
   "cell_type": "code",
   "execution_count": null,
   "metadata": {
    "collapsed": true
   },
   "outputs": [],
   "source": [
    "pip install EoN --quiet"
   ]
  },
  {
   "cell_type": "code",
   "execution_count": null,
   "outputs": [],
   "source": [
    "N = 10000\n",
    "p = 0.01\n",
    "G = nx.erdos_renyi_graph(N, p, seed=42)\n",
    "print(G)"
   ],
   "metadata": {
    "collapsed": false
   }
  },
  {
   "cell_type": "markdown",
   "source": [
    "### Parâmetros"
   ],
   "metadata": {
    "collapsed": false
   }
  },
  {
   "cell_type": "code",
   "execution_count": null,
   "outputs": [],
   "source": [
    "tmax = 10\n",
    "tau = 0.1  # transmission rate\n",
    "gamma = 1.0  # recovery rate\n",
    "rho = 0.005  # random fraction initially infected"
   ],
   "metadata": {
    "collapsed": false
   }
  },
  {
   "cell_type": "markdown",
   "source": [
    "### Modelo com imunidade"
   ],
   "metadata": {
    "collapsed": false
   }
  },
  {
   "cell_type": "code",
   "execution_count": null,
   "outputs": [],
   "source": [
    "t, S, I, R = EoN.fast_SIR(G, tau, gamma, rho=rho, tmax=tmax)\n",
    "\n",
    "plt.plot(t, I)\n",
    "plt.xlabel('Tempo')\n",
    "plt.ylabel('Número de infectados');"
   ],
   "metadata": {
    "collapsed": false
   }
  },
  {
   "cell_type": "markdown",
   "source": [
    "### Modelo **sem** imunidade"
   ],
   "metadata": {
    "collapsed": false
   }
  },
  {
   "cell_type": "code",
   "execution_count": null,
   "outputs": [],
   "source": [
    "t, S, I = EoN.fast_SIS(G, tau, gamma, rho=rho, tmax=tmax)\n",
    "\n",
    "plt.plot(t, I)\n",
    "plt.xlabel('Tempo')\n",
    "plt.ylabel('Número de infectados');"
   ],
   "metadata": {
    "collapsed": false
   }
  },
  {
   "cell_type": "markdown",
   "source": [
    "# 2. Busca em redes"
   ],
   "metadata": {
    "collapsed": false
   }
  },
  {
   "cell_type": "code",
   "execution_count": null,
   "outputs": [],
   "source": [
    "url = 'https://snap.stanford.edu/data/roadNet-PA.txt.gz'\n",
    "file_path = download_file(url)\n",
    "file_path"
   ],
   "metadata": {
    "collapsed": false
   }
  },
  {
   "cell_type": "markdown",
   "source": [
    "Lembrando que a rede é direcionada!"
   ],
   "metadata": {
    "collapsed": false
   }
  },
  {
   "cell_type": "code",
   "execution_count": null,
   "outputs": [],
   "source": [
    "G = nx.read_edgelist(file_path, create_using=nx.DiGraph)\n",
    "print(G)"
   ],
   "metadata": {
    "collapsed": false
   }
  },
  {
   "cell_type": "code",
   "execution_count": null,
   "outputs": [],
   "source": [
    "np.random.seed(42)\n",
    "for src, dst in G.edges:\n",
    "    G.edges[src, dst]['road_length'] = np.random.randint(1, 50)"
   ],
   "metadata": {
    "collapsed": false
   }
  },
  {
   "cell_type": "markdown",
   "source": [
    "## Busca sem pesos"
   ],
   "metadata": {
    "collapsed": false
   }
  },
  {
   "cell_type": "markdown",
   "source": [
    "Caminhos até os vizinhos:"
   ],
   "metadata": {
    "collapsed": false
   }
  },
  {
   "cell_type": "code",
   "execution_count": null,
   "outputs": [],
   "source": [
    "G.adj['0']"
   ],
   "metadata": {
    "collapsed": false
   }
  },
  {
   "cell_type": "code",
   "execution_count": null,
   "outputs": [],
   "source": [
    "nx.shortest_path(G, '0', '1')"
   ],
   "metadata": {
    "collapsed": false
   }
  },
  {
   "cell_type": "code",
   "execution_count": null,
   "outputs": [],
   "source": [
    "nx.shortest_path(G, '0', '6309')"
   ],
   "metadata": {
    "collapsed": false
   }
  },
  {
   "cell_type": "code",
   "execution_count": null,
   "outputs": [],
   "source": [
    "nx.shortest_path(G, '0', '6353')"
   ],
   "metadata": {
    "collapsed": false
   }
  },
  {
   "cell_type": "markdown",
   "source": [
    "Para saber a distância:"
   ],
   "metadata": {
    "collapsed": false
   }
  },
  {
   "cell_type": "code",
   "execution_count": null,
   "outputs": [],
   "source": [
    "nx.shortest_path_length(G, '0', '6353')"
   ],
   "metadata": {
    "collapsed": false
   }
  },
  {
   "cell_type": "markdown",
   "source": [
    "Caminhos de comprimento 2:"
   ],
   "metadata": {
    "collapsed": false
   }
  },
  {
   "cell_type": "code",
   "execution_count": null,
   "outputs": [],
   "source": [
    "G.adj['6309']"
   ],
   "metadata": {
    "collapsed": false
   }
  },
  {
   "cell_type": "code",
   "execution_count": null,
   "outputs": [],
   "source": [
    "nx.shortest_path(G, '0', '6310')"
   ],
   "metadata": {
    "collapsed": false
   }
  },
  {
   "cell_type": "code",
   "execution_count": null,
   "outputs": [],
   "source": [
    "nx.shortest_path_length(G, '0', '6310')"
   ],
   "metadata": {
    "collapsed": false
   }
  },
  {
   "cell_type": "markdown",
   "source": [
    "Distâncias podem crescer rapidamente nessa rede:"
   ],
   "metadata": {
    "collapsed": false
   }
  },
  {
   "cell_type": "code",
   "execution_count": null,
   "outputs": [],
   "source": [
    "nx.shortest_path(G, '0', '2')"
   ],
   "metadata": {
    "collapsed": false
   }
  },
  {
   "cell_type": "code",
   "execution_count": null,
   "outputs": [],
   "source": [
    "nx.shortest_path_length(G, '0', '2')"
   ],
   "metadata": {
    "collapsed": false
   }
  },
  {
   "cell_type": "code",
   "execution_count": null,
   "outputs": [],
   "source": [
    "path = nx.shortest_path(G, '0', '2')\n",
    "len(path) - 1"
   ],
   "metadata": {
    "collapsed": false
   }
  },
  {
   "cell_type": "markdown",
   "source": [
    "## Busca com pesos"
   ],
   "metadata": {
    "collapsed": false
   }
  },
  {
   "cell_type": "code",
   "execution_count": null,
   "outputs": [],
   "source": [
    "nx.shortest_path(G, '0', '1', weight='road_length')"
   ],
   "metadata": {
    "collapsed": false
   }
  },
  {
   "cell_type": "code",
   "execution_count": null,
   "outputs": [],
   "source": [
    "nx.shortest_path_length(G, '0', '1', weight='road_length')"
   ],
   "metadata": {
    "collapsed": false
   }
  },
  {
   "cell_type": "code",
   "execution_count": null,
   "outputs": [],
   "source": [
    "path_to_2 = nx.shortest_path(G, '0', '2', weight='road_length')\n",
    "len(path_to_2)"
   ],
   "metadata": {
    "collapsed": false
   }
  },
  {
   "cell_type": "code",
   "execution_count": null,
   "outputs": [],
   "source": [
    "nx.shortest_path_length(G, '0', '2', weight='road_length')"
   ],
   "metadata": {
    "collapsed": false
   }
  },
  {
   "cell_type": "markdown",
   "source": [
    "# 3. Falhas em redes"
   ],
   "metadata": {
    "collapsed": false
   }
  },
  {
   "cell_type": "markdown",
   "source": [
    "## Rede aleatória *Erdös-Rényi*"
   ],
   "metadata": {
    "collapsed": false
   }
  },
  {
   "cell_type": "code",
   "execution_count": null,
   "outputs": [],
   "source": [
    "n = 5000\n",
    "p = 0.005\n",
    "G = nx.erdos_renyi_graph(n, p, seed=42)\n",
    "print(G)"
   ],
   "metadata": {
    "collapsed": false
   }
  },
  {
   "cell_type": "markdown",
   "source": [
    "No início, a rede está conectada:"
   ],
   "metadata": {
    "collapsed": false
   }
  },
  {
   "cell_type": "code",
   "execution_count": null,
   "outputs": [],
   "source": [
    "nx.is_connected(G)"
   ],
   "metadata": {
    "collapsed": false
   }
  },
  {
   "cell_type": "code",
   "execution_count": null,
   "outputs": [],
   "source": [
    "def attack(g, targeted, seed=None):\n",
    "    np.random.seed(seed)  # Para fins didáticos, vamos fixar a semente\n",
    "    num_removed = 0\n",
    "    while nx.is_connected(g):\n",
    "        if not targeted:  # Escolha totalmente aleatória\n",
    "            node_to_remove = np.random.choice(g.nodes)\n",
    "        else:  # Escolha proporcional ao grau\n",
    "            degrees = [degree for node, degree in g.degree]\n",
    "            degrees = np.array(degrees)\n",
    "            prob = degrees / np.sum(degrees)  # Normalizando para somar 1\n",
    "            node_to_remove = np.random.choice(g.nodes, p=prob)\n",
    "        g.remove_node(node_to_remove)\n",
    "        num_removed += 1\n",
    "    print(f'Nós removidos até desconectar: {num_removed}')"
   ],
   "metadata": {
    "collapsed": false
   }
  },
  {
   "cell_type": "code",
   "execution_count": null,
   "outputs": [],
   "source": [
    "H = G.copy()\n",
    "attack(H, targeted=False, seed=42)"
   ],
   "metadata": {
    "collapsed": false
   }
  },
  {
   "cell_type": "code",
   "execution_count": null,
   "outputs": [],
   "source": [
    "print(H)"
   ],
   "metadata": {
    "collapsed": false
   }
  },
  {
   "cell_type": "code",
   "execution_count": null,
   "outputs": [],
   "source": [
    "nx.is_connected(H)"
   ],
   "metadata": {
    "collapsed": false
   }
  },
  {
   "cell_type": "code",
   "execution_count": null,
   "outputs": [],
   "source": [
    "H = G.copy()\n",
    "attack(H, targeted=True, seed=42)"
   ],
   "metadata": {
    "collapsed": false
   }
  },
  {
   "cell_type": "code",
   "execution_count": null,
   "outputs": [],
   "source": [
    "print(H)"
   ],
   "metadata": {
    "collapsed": false
   }
  },
  {
   "cell_type": "markdown",
   "source": [
    "## Rede livre de escala *Barabási-Albert*"
   ],
   "metadata": {
    "collapsed": false
   }
  },
  {
   "cell_type": "code",
   "execution_count": null,
   "outputs": [],
   "source": [
    "G = nx.barabasi_albert_graph(n, 2, seed=42)\n",
    "print(G)"
   ],
   "metadata": {
    "collapsed": false
   }
  },
  {
   "cell_type": "code",
   "execution_count": null,
   "outputs": [],
   "source": [
    "nx.is_connected(G)"
   ],
   "metadata": {
    "collapsed": false
   }
  },
  {
   "cell_type": "code",
   "execution_count": null,
   "outputs": [],
   "source": [
    "H = G.copy()\n",
    "attack(H, targeted=False, seed=42)"
   ],
   "metadata": {
    "collapsed": false
   }
  },
  {
   "cell_type": "code",
   "execution_count": null,
   "outputs": [],
   "source": [
    "print(H)"
   ],
   "metadata": {
    "collapsed": false
   }
  },
  {
   "cell_type": "code",
   "execution_count": null,
   "outputs": [],
   "source": [
    "nx.is_connected(H)"
   ],
   "metadata": {
    "collapsed": false
   }
  },
  {
   "cell_type": "code",
   "execution_count": null,
   "outputs": [],
   "source": [
    "H = G.copy()\n",
    "attack(H, targeted=True, seed=42)"
   ],
   "metadata": {
    "collapsed": false
   }
  },
  {
   "cell_type": "code",
   "execution_count": null,
   "outputs": [],
   "source": [
    "print(H)"
   ],
   "metadata": {
    "collapsed": false
   }
  },
  {
   "cell_type": "code",
   "execution_count": null,
   "outputs": [],
   "source": [
    "H = G.copy()\n",
    "attack(H, targeted=False, seed=1)"
   ],
   "metadata": {
    "collapsed": false
   }
  },
  {
   "cell_type": "code",
   "execution_count": null,
   "outputs": [],
   "source": [
    "H = G.copy()\n",
    "attack(H, targeted=True, seed=1)"
   ],
   "metadata": {
    "collapsed": false
   }
  },
  {
   "cell_type": "markdown",
   "source": [
    "# 4. Recomendação em redes"
   ],
   "metadata": {
    "collapsed": false
   }
  },
  {
   "cell_type": "markdown",
   "source": [
    "**Rede de colaboração**\n",
    "\n",
    "- Artigos na área de astrofísica\n",
    "- Publicados entre 1993 e 2003\n",
    "\n",
    "[Link para o dataset](https://snap.stanford.edu/data/ca-AstroPh.html)\n",
    "\n",
    "Referência:\n",
    "- J. Leskovec, J. Kleinberg and C. Faloutsos. Graph Evolution: Densification and Shrinking Diameters. ACM Transactions on Knowledge Discovery from Data (ACM TKDD), 1(1), 2007."
   ],
   "metadata": {
    "collapsed": false
   }
  },
  {
   "cell_type": "code",
   "execution_count": 80,
   "outputs": [
    {
     "data": {
      "text/plain": "'ca-AstroPh.txt.gz'"
     },
     "execution_count": 80,
     "metadata": {},
     "output_type": "execute_result"
    }
   ],
   "source": [
    "url = 'https://snap.stanford.edu/data/ca-AstroPh.txt.gz'\n",
    "file_path = download_file(url)\n",
    "file_path"
   ],
   "metadata": {
    "collapsed": false
   }
  },
  {
   "cell_type": "code",
   "execution_count": 81,
   "outputs": [
    {
     "name": "stdout",
     "output_type": "stream",
     "text": [
      "Graph with 18772 nodes and 198110 edges\n"
     ]
    }
   ],
   "source": [
    "G = nx.read_edgelist(file_path)\n",
    "print(G)"
   ],
   "metadata": {
    "collapsed": false
   }
  },
  {
   "cell_type": "markdown",
   "source": [
    "Algumas opções para prever relações:\n",
    "1. `nx.common_neighbor_centrality()`\n",
    "2. `nx.jaccard_coefficient`\n",
    "3. `nx.adamic_adar_index`\n",
    "4. `nx.preferential_attachment`"
   ],
   "metadata": {
    "collapsed": false
   }
  },
  {
   "cell_type": "markdown",
   "source": [
    "Nosso nó de exemplo:"
   ],
   "metadata": {
    "collapsed": false
   }
  },
  {
   "cell_type": "code",
   "execution_count": 82,
   "outputs": [
    {
     "data": {
      "text/plain": "31"
     },
     "execution_count": 82,
     "metadata": {},
     "output_type": "execute_result"
    }
   ],
   "source": [
    "target_node = '276'\n",
    "G.degree[target_node]"
   ],
   "metadata": {
    "collapsed": false
   }
  },
  {
   "cell_type": "code",
   "execution_count": 83,
   "outputs": [
    {
     "data": {
      "text/plain": "[('276', '283', 1)]"
     },
     "execution_count": 83,
     "metadata": {},
     "output_type": "execute_result"
    }
   ],
   "source": [
    "pairs = [(target_node, '283')]\n",
    "recommendation = nx.common_neighbor_centrality(G, pairs, alpha=1.0)\n",
    "recommendation = list(recommendation)\n",
    "recommendation"
   ],
   "metadata": {
    "collapsed": false
   }
  },
  {
   "cell_type": "code",
   "execution_count": 84,
   "outputs": [
    {
     "data": {
      "text/plain": "['1662',\n '5089',\n '6058',\n '6229',\n '10639',\n '16442',\n '19325',\n '19834',\n '21937',\n '25452']"
     },
     "execution_count": 84,
     "metadata": {},
     "output_type": "execute_result"
    }
   ],
   "source": [
    "list(nx.non_neighbors(G, target_node))[:10]"
   ],
   "metadata": {
    "collapsed": false
   }
  },
  {
   "cell_type": "code",
   "execution_count": 85,
   "outputs": [],
   "source": [
    "available_recs = [(target_node, n) for n in nx.non_neighbors(G, target_node)]"
   ],
   "metadata": {
    "collapsed": false
   }
  },
  {
   "cell_type": "markdown",
   "source": [
    "## Vizinhos em comum"
   ],
   "metadata": {
    "collapsed": false
   }
  },
  {
   "cell_type": "code",
   "execution_count": 86,
   "outputs": [
    {
     "data": {
      "text/plain": "      source destination  prediction\n34       276       72391           4\n39       276       78627           4\n13       276       32432           3\n37       276       77098           3\n6256     276       15309           3\n...      ...         ...         ...\n6549     276       93404           0\n6550     276       95461           0\n6551     276       96331           0\n6552     276       96364           0\n18739    276      129005           0\n\n[18740 rows x 3 columns]",
      "text/html": "<div>\n<style scoped>\n    .dataframe tbody tr th:only-of-type {\n        vertical-align: middle;\n    }\n\n    .dataframe tbody tr th {\n        vertical-align: top;\n    }\n\n    .dataframe thead th {\n        text-align: right;\n    }\n</style>\n<table border=\"1\" class=\"dataframe\">\n  <thead>\n    <tr style=\"text-align: right;\">\n      <th></th>\n      <th>source</th>\n      <th>destination</th>\n      <th>prediction</th>\n    </tr>\n  </thead>\n  <tbody>\n    <tr>\n      <th>34</th>\n      <td>276</td>\n      <td>72391</td>\n      <td>4</td>\n    </tr>\n    <tr>\n      <th>39</th>\n      <td>276</td>\n      <td>78627</td>\n      <td>4</td>\n    </tr>\n    <tr>\n      <th>13</th>\n      <td>276</td>\n      <td>32432</td>\n      <td>3</td>\n    </tr>\n    <tr>\n      <th>37</th>\n      <td>276</td>\n      <td>77098</td>\n      <td>3</td>\n    </tr>\n    <tr>\n      <th>6256</th>\n      <td>276</td>\n      <td>15309</td>\n      <td>3</td>\n    </tr>\n    <tr>\n      <th>...</th>\n      <td>...</td>\n      <td>...</td>\n      <td>...</td>\n    </tr>\n    <tr>\n      <th>6549</th>\n      <td>276</td>\n      <td>93404</td>\n      <td>0</td>\n    </tr>\n    <tr>\n      <th>6550</th>\n      <td>276</td>\n      <td>95461</td>\n      <td>0</td>\n    </tr>\n    <tr>\n      <th>6551</th>\n      <td>276</td>\n      <td>96331</td>\n      <td>0</td>\n    </tr>\n    <tr>\n      <th>6552</th>\n      <td>276</td>\n      <td>96364</td>\n      <td>0</td>\n    </tr>\n    <tr>\n      <th>18739</th>\n      <td>276</td>\n      <td>129005</td>\n      <td>0</td>\n    </tr>\n  </tbody>\n</table>\n<p>18740 rows × 3 columns</p>\n</div>"
     },
     "execution_count": 86,
     "metadata": {},
     "output_type": "execute_result"
    }
   ],
   "source": [
    "recommendation = nx.common_neighbor_centrality(G, available_recs, alpha=1.0)\n",
    "recommendation = pd.DataFrame(\n",
    "    recommendation,\n",
    "    columns=['source', 'destination', 'prediction']\n",
    ")\n",
    "recommendation.sort_values('prediction', ascending=False)"
   ],
   "metadata": {
    "collapsed": false
   }
  },
  {
   "cell_type": "markdown",
   "source": [
    "## Coeficiente de *Jaccard*"
   ],
   "metadata": {
    "collapsed": false
   }
  },
  {
   "cell_type": "code",
   "execution_count": 87,
   "outputs": [
    {
     "data": {
      "text/plain": "      source destination  prediction\n34       276       72391    0.117647\n12704    276        3539    0.090909\n8486     276      132043    0.073171\n3303     276      124591    0.064516\n1        276        5089    0.064516\n...      ...         ...         ...\n6549     276       93404    0.000000\n6550     276       95461    0.000000\n6551     276       96331    0.000000\n6552     276       96364    0.000000\n18739    276      129005    0.000000\n\n[18740 rows x 3 columns]",
      "text/html": "<div>\n<style scoped>\n    .dataframe tbody tr th:only-of-type {\n        vertical-align: middle;\n    }\n\n    .dataframe tbody tr th {\n        vertical-align: top;\n    }\n\n    .dataframe thead th {\n        text-align: right;\n    }\n</style>\n<table border=\"1\" class=\"dataframe\">\n  <thead>\n    <tr style=\"text-align: right;\">\n      <th></th>\n      <th>source</th>\n      <th>destination</th>\n      <th>prediction</th>\n    </tr>\n  </thead>\n  <tbody>\n    <tr>\n      <th>34</th>\n      <td>276</td>\n      <td>72391</td>\n      <td>0.117647</td>\n    </tr>\n    <tr>\n      <th>12704</th>\n      <td>276</td>\n      <td>3539</td>\n      <td>0.090909</td>\n    </tr>\n    <tr>\n      <th>8486</th>\n      <td>276</td>\n      <td>132043</td>\n      <td>0.073171</td>\n    </tr>\n    <tr>\n      <th>3303</th>\n      <td>276</td>\n      <td>124591</td>\n      <td>0.064516</td>\n    </tr>\n    <tr>\n      <th>1</th>\n      <td>276</td>\n      <td>5089</td>\n      <td>0.064516</td>\n    </tr>\n    <tr>\n      <th>...</th>\n      <td>...</td>\n      <td>...</td>\n      <td>...</td>\n    </tr>\n    <tr>\n      <th>6549</th>\n      <td>276</td>\n      <td>93404</td>\n      <td>0.000000</td>\n    </tr>\n    <tr>\n      <th>6550</th>\n      <td>276</td>\n      <td>95461</td>\n      <td>0.000000</td>\n    </tr>\n    <tr>\n      <th>6551</th>\n      <td>276</td>\n      <td>96331</td>\n      <td>0.000000</td>\n    </tr>\n    <tr>\n      <th>6552</th>\n      <td>276</td>\n      <td>96364</td>\n      <td>0.000000</td>\n    </tr>\n    <tr>\n      <th>18739</th>\n      <td>276</td>\n      <td>129005</td>\n      <td>0.000000</td>\n    </tr>\n  </tbody>\n</table>\n<p>18740 rows × 3 columns</p>\n</div>"
     },
     "execution_count": 87,
     "metadata": {},
     "output_type": "execute_result"
    }
   ],
   "source": [
    "recommendation2 = nx.jaccard_coefficient(G, available_recs)\n",
    "recommendation2 = pd.DataFrame(\n",
    "    recommendation2,\n",
    "    columns=['source', 'destination', 'prediction']\n",
    ")\n",
    "recommendation2.sort_values('prediction', ascending=False)"
   ],
   "metadata": {
    "collapsed": false
   }
  },
  {
   "cell_type": "markdown",
   "source": [
    "## *Adamic-Adar*"
   ],
   "metadata": {
    "collapsed": false
   }
  },
  {
   "cell_type": "code",
   "execution_count": 88,
   "outputs": [
    {
     "data": {
      "text/plain": "      source destination  prediction\n2140     276      120425    1.338287\n34       276       72391    1.068811\n39       276       78627    1.062724\n12704    276        3539    0.993491\n12694    276       10110    0.993491\n...      ...         ...         ...\n6549     276       93404    0.000000\n6550     276       95461    0.000000\n6551     276       96331    0.000000\n6552     276       96364    0.000000\n18739    276      129005    0.000000\n\n[18740 rows x 3 columns]",
      "text/html": "<div>\n<style scoped>\n    .dataframe tbody tr th:only-of-type {\n        vertical-align: middle;\n    }\n\n    .dataframe tbody tr th {\n        vertical-align: top;\n    }\n\n    .dataframe thead th {\n        text-align: right;\n    }\n</style>\n<table border=\"1\" class=\"dataframe\">\n  <thead>\n    <tr style=\"text-align: right;\">\n      <th></th>\n      <th>source</th>\n      <th>destination</th>\n      <th>prediction</th>\n    </tr>\n  </thead>\n  <tbody>\n    <tr>\n      <th>2140</th>\n      <td>276</td>\n      <td>120425</td>\n      <td>1.338287</td>\n    </tr>\n    <tr>\n      <th>34</th>\n      <td>276</td>\n      <td>72391</td>\n      <td>1.068811</td>\n    </tr>\n    <tr>\n      <th>39</th>\n      <td>276</td>\n      <td>78627</td>\n      <td>1.062724</td>\n    </tr>\n    <tr>\n      <th>12704</th>\n      <td>276</td>\n      <td>3539</td>\n      <td>0.993491</td>\n    </tr>\n    <tr>\n      <th>12694</th>\n      <td>276</td>\n      <td>10110</td>\n      <td>0.993491</td>\n    </tr>\n    <tr>\n      <th>...</th>\n      <td>...</td>\n      <td>...</td>\n      <td>...</td>\n    </tr>\n    <tr>\n      <th>6549</th>\n      <td>276</td>\n      <td>93404</td>\n      <td>0.000000</td>\n    </tr>\n    <tr>\n      <th>6550</th>\n      <td>276</td>\n      <td>95461</td>\n      <td>0.000000</td>\n    </tr>\n    <tr>\n      <th>6551</th>\n      <td>276</td>\n      <td>96331</td>\n      <td>0.000000</td>\n    </tr>\n    <tr>\n      <th>6552</th>\n      <td>276</td>\n      <td>96364</td>\n      <td>0.000000</td>\n    </tr>\n    <tr>\n      <th>18739</th>\n      <td>276</td>\n      <td>129005</td>\n      <td>0.000000</td>\n    </tr>\n  </tbody>\n</table>\n<p>18740 rows × 3 columns</p>\n</div>"
     },
     "execution_count": 88,
     "metadata": {},
     "output_type": "execute_result"
    }
   ],
   "source": [
    "recommendation3 = nx.adamic_adar_index(G, available_recs)\n",
    "recommendation3 = pd.DataFrame(\n",
    "    recommendation3,\n",
    "    columns=['source', 'destination', 'prediction']\n",
    ")\n",
    "recommendation3.sort_values('prediction', ascending=False)"
   ],
   "metadata": {
    "collapsed": false
   }
  },
  {
   "cell_type": "markdown",
   "source": [
    "## Conexão preferencial"
   ],
   "metadata": {
    "collapsed": false
   }
  },
  {
   "cell_type": "code",
   "execution_count": 89,
   "outputs": [
    {
     "data": {
      "text/plain": "      source destination  prediction\n315      276       53213       15624\n288      276       35290       13237\n293      276       38109       13020\n2284     276       62821       12958\n2115     276       93504       11997\n...      ...         ...         ...\n17578    276       87910          31\n17577    276      117290          31\n17576    276       95148          31\n5242     276       95880          31\n18739    276      129005          31\n\n[18740 rows x 3 columns]",
      "text/html": "<div>\n<style scoped>\n    .dataframe tbody tr th:only-of-type {\n        vertical-align: middle;\n    }\n\n    .dataframe tbody tr th {\n        vertical-align: top;\n    }\n\n    .dataframe thead th {\n        text-align: right;\n    }\n</style>\n<table border=\"1\" class=\"dataframe\">\n  <thead>\n    <tr style=\"text-align: right;\">\n      <th></th>\n      <th>source</th>\n      <th>destination</th>\n      <th>prediction</th>\n    </tr>\n  </thead>\n  <tbody>\n    <tr>\n      <th>315</th>\n      <td>276</td>\n      <td>53213</td>\n      <td>15624</td>\n    </tr>\n    <tr>\n      <th>288</th>\n      <td>276</td>\n      <td>35290</td>\n      <td>13237</td>\n    </tr>\n    <tr>\n      <th>293</th>\n      <td>276</td>\n      <td>38109</td>\n      <td>13020</td>\n    </tr>\n    <tr>\n      <th>2284</th>\n      <td>276</td>\n      <td>62821</td>\n      <td>12958</td>\n    </tr>\n    <tr>\n      <th>2115</th>\n      <td>276</td>\n      <td>93504</td>\n      <td>11997</td>\n    </tr>\n    <tr>\n      <th>...</th>\n      <td>...</td>\n      <td>...</td>\n      <td>...</td>\n    </tr>\n    <tr>\n      <th>17578</th>\n      <td>276</td>\n      <td>87910</td>\n      <td>31</td>\n    </tr>\n    <tr>\n      <th>17577</th>\n      <td>276</td>\n      <td>117290</td>\n      <td>31</td>\n    </tr>\n    <tr>\n      <th>17576</th>\n      <td>276</td>\n      <td>95148</td>\n      <td>31</td>\n    </tr>\n    <tr>\n      <th>5242</th>\n      <td>276</td>\n      <td>95880</td>\n      <td>31</td>\n    </tr>\n    <tr>\n      <th>18739</th>\n      <td>276</td>\n      <td>129005</td>\n      <td>31</td>\n    </tr>\n  </tbody>\n</table>\n<p>18740 rows × 3 columns</p>\n</div>"
     },
     "execution_count": 89,
     "metadata": {},
     "output_type": "execute_result"
    }
   ],
   "source": [
    "recommendation4 = nx.preferential_attachment(G, available_recs)\n",
    "recommendation4 = pd.DataFrame(\n",
    "    recommendation4,\n",
    "    columns=['source', 'destination', 'prediction']\n",
    ")\n",
    "recommendation4.sort_values('prediction', ascending=False)"
   ],
   "metadata": {
    "collapsed": false
   }
  },
  {
   "cell_type": "code",
   "execution_count": 90,
   "outputs": [
    {
     "data": {
      "text/plain": "(504, 427)"
     },
     "execution_count": 90,
     "metadata": {},
     "output_type": "execute_result"
    }
   ],
   "source": [
    "G.degree['53213'], G.degree['35290']"
   ],
   "metadata": {
    "collapsed": false
   }
  }
 ],
 "metadata": {
  "kernelspec": {
   "display_name": "Python 3",
   "language": "python",
   "name": "python3"
  },
  "language_info": {
   "codemirror_mode": {
    "name": "ipython",
    "version": 2
   },
   "file_extension": ".py",
   "mimetype": "text/x-python",
   "name": "python",
   "nbconvert_exporter": "python",
   "pygments_lexer": "ipython2",
   "version": "2.7.6"
  }
 },
 "nbformat": 4,
 "nbformat_minor": 0
}
