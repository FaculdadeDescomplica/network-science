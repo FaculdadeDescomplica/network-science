{
 "cells": [
  {
   "cell_type": "code",
   "execution_count": 124,
   "metadata": {
    "collapsed": true
   },
   "outputs": [],
   "source": [
    "import networkx as nx\n",
    "import pandas as pd\n",
    "import numpy as np\n",
    "import seaborn as sns\n",
    "import scipy\n",
    "import matplotlib.pyplot as plt\n",
    "import requests"
   ]
  },
  {
   "cell_type": "code",
   "execution_count": 125,
   "outputs": [],
   "source": [
    "def download_file(url):\n",
    "    file_path = url.split('/')[-1]\n",
    "    resp = requests.get(url)\n",
    "    with open(file_path, 'wb') as f:\n",
    "        f.write(resp.content)\n",
    "    return file_path"
   ],
   "metadata": {
    "collapsed": false
   }
  },
  {
   "cell_type": "markdown",
   "source": [
    "# 1. Redes de colaboração\n",
    "\n",
    "- Artigos na área de astrofísica\n",
    "- Publicados entre 1993 e 2003\n",
    "\n",
    "[Link para o dataset](https://snap.stanford.edu/data/ca-AstroPh.html)\n",
    "\n",
    "Referência:\n",
    "- J. Leskovec, J. Kleinberg and C. Faloutsos. Graph Evolution: Densification and Shrinking Diameters. ACM Transactions on Knowledge Discovery from Data (ACM TKDD), 1(1), 2007."
   ],
   "metadata": {
    "collapsed": false
   }
  },
  {
   "cell_type": "code",
   "execution_count": 126,
   "outputs": [
    {
     "data": {
      "text/plain": "'ca-AstroPh.txt.gz'"
     },
     "execution_count": 126,
     "metadata": {},
     "output_type": "execute_result"
    }
   ],
   "source": [
    "url = 'https://snap.stanford.edu/data/ca-AstroPh.txt.gz'\n",
    "file_path = download_file(url)\n",
    "file_path"
   ],
   "metadata": {
    "collapsed": false
   }
  },
  {
   "cell_type": "code",
   "execution_count": 127,
   "outputs": [
    {
     "name": "stdout",
     "output_type": "stream",
     "text": [
      "Graph with 18772 nodes and 198110 edges\n"
     ]
    }
   ],
   "source": [
    "G = nx.read_edgelist(file_path)\n",
    "print(G)"
   ],
   "metadata": {
    "collapsed": false
   }
  },
  {
   "cell_type": "markdown",
   "source": [
    "## Densidade da rede"
   ],
   "metadata": {
    "collapsed": false
   }
  },
  {
   "cell_type": "code",
   "execution_count": 128,
   "outputs": [
    {
     "data": {
      "text/plain": "0.0011244455715955115"
     },
     "execution_count": 128,
     "metadata": {},
     "output_type": "execute_result"
    }
   ],
   "source": [
    "nx.density(G)"
   ],
   "metadata": {
    "collapsed": false
   }
  },
  {
   "cell_type": "markdown",
   "source": [
    "## Conectividade"
   ],
   "metadata": {
    "collapsed": false
   }
  },
  {
   "cell_type": "code",
   "execution_count": 129,
   "outputs": [
    {
     "data": {
      "text/plain": "False"
     },
     "execution_count": 129,
     "metadata": {},
     "output_type": "execute_result"
    }
   ],
   "source": [
    "nx.is_connected(G)"
   ],
   "metadata": {
    "collapsed": false
   }
  },
  {
   "cell_type": "markdown",
   "source": [
    "Quantas **componentes conexas** existem na rede?"
   ],
   "metadata": {
    "collapsed": false
   }
  },
  {
   "cell_type": "code",
   "execution_count": 130,
   "outputs": [
    {
     "data": {
      "text/plain": "290"
     },
     "execution_count": 130,
     "metadata": {},
     "output_type": "execute_result"
    }
   ],
   "source": [
    "nx.number_connected_components(G)"
   ],
   "metadata": {
    "collapsed": false
   }
  },
  {
   "cell_type": "code",
   "execution_count": 131,
   "outputs": [
    {
     "ename": "TypeError",
     "evalue": "object of type 'generator' has no len()",
     "output_type": "error",
     "traceback": [
      "\u001B[1;31m---------------------------------------------------------------------------\u001B[0m",
      "\u001B[1;31mTypeError\u001B[0m                                 Traceback (most recent call last)",
      "Cell \u001B[1;32mIn[131], line 2\u001B[0m\n\u001B[0;32m      1\u001B[0m components \u001B[38;5;241m=\u001B[39m nx\u001B[38;5;241m.\u001B[39mconnected_components(G)\n\u001B[1;32m----> 2\u001B[0m \u001B[38;5;28;43mlen\u001B[39;49m\u001B[43m(\u001B[49m\u001B[43mnx\u001B[49m\u001B[38;5;241;43m.\u001B[39;49m\u001B[43mconnected_components\u001B[49m\u001B[43m(\u001B[49m\u001B[43mG\u001B[49m\u001B[43m)\u001B[49m\u001B[43m)\u001B[49m\n",
      "\u001B[1;31mTypeError\u001B[0m: object of type 'generator' has no len()"
     ]
    }
   ],
   "source": [
    "components = nx.connected_components(G)\n",
    "len(nx.connected_components(G))"
   ],
   "metadata": {
    "collapsed": false
   }
  },
  {
   "cell_type": "markdown",
   "source": [
    "Convertendo para `list` primeiro:"
   ],
   "metadata": {
    "collapsed": false
   }
  },
  {
   "cell_type": "code",
   "execution_count": 132,
   "outputs": [
    {
     "data": {
      "text/plain": "290"
     },
     "execution_count": 132,
     "metadata": {},
     "output_type": "execute_result"
    }
   ],
   "source": [
    "components = nx.connected_components(G)\n",
    "len(list(components))"
   ],
   "metadata": {
    "collapsed": false
   }
  },
  {
   "cell_type": "code",
   "execution_count": 133,
   "outputs": [],
   "source": [
    "components = nx.connected_components(G)\n",
    "sizes = []\n",
    "for comp in components:\n",
    "    sizes.append(len(comp))"
   ],
   "metadata": {
    "collapsed": false
   }
  },
  {
   "cell_type": "markdown",
   "source": [
    "Usando *list comprehension*:"
   ],
   "metadata": {
    "collapsed": false
   }
  },
  {
   "cell_type": "code",
   "execution_count": 134,
   "outputs": [],
   "source": [
    "components = nx.connected_components(G)\n",
    "sizes = [len(comp) for comp in components]"
   ],
   "metadata": {
    "collapsed": false
   }
  },
  {
   "cell_type": "code",
   "execution_count": 136,
   "outputs": [
    {
     "data": {
      "text/plain": "count      290.000000\nmean        64.731034\nstd       1051.125146\nmin          1.000000\n25%          2.000000\n50%          3.000000\n75%          3.000000\nmax      17903.000000\ndtype: float64"
     },
     "execution_count": 136,
     "metadata": {},
     "output_type": "execute_result"
    }
   ],
   "source": [
    "sizes = pd.Series(sizes)\n",
    "sizes.describe()"
   ],
   "metadata": {
    "collapsed": false
   }
  },
  {
   "cell_type": "markdown",
   "source": [
    "Vamos analisar apenas a **maior componente**. Esse é um processo bastante comum."
   ],
   "metadata": {
    "collapsed": false
   }
  },
  {
   "cell_type": "code",
   "execution_count": 137,
   "outputs": [
    {
     "data": {
      "text/plain": "{'82019',\n '90053',\n '82499',\n '130929',\n '91617',\n '115744',\n '87130',\n '74936',\n '5157',\n '62486',\n '31345',\n '60642',\n '28893',\n '70228',\n '130330',\n '16881',\n '89915',\n '61597',\n '46915',\n '57013',\n '120188',\n '93521',\n '115987',\n '88167',\n '103498',\n '122700',\n '16783',\n '55045',\n '117444',\n '11479',\n '32269',\n '27142',\n '53502',\n '62564',\n '112183',\n '93330',\n '58764',\n '66469',\n '47609',\n '11725',\n '88361',\n '132121',\n '22437',\n '105467',\n '52979',\n '76467',\n '84128',\n '68239',\n '25178',\n '133029',\n '130022',\n '46457',\n '12645',\n '69601',\n '52359',\n '59433',\n '39258',\n '16957',\n '105705',\n '42077',\n '17863',\n '26463',\n '9069',\n '76026',\n '118320',\n '72049',\n '110644',\n '72857',\n '125855',\n '121081',\n '72048',\n '62078',\n '123287',\n '92622',\n '89169',\n '92915',\n '101744',\n '90437',\n '61430',\n '74941',\n '25304',\n '9292',\n '66708',\n '84919',\n '132712',\n '127293',\n '108653',\n '9814',\n '97005',\n '43314',\n '119195',\n '119667',\n '52481',\n '101278',\n '52495',\n '97877',\n '9806',\n '84943',\n '132883',\n '76111',\n '92438',\n '106304',\n '106412',\n '119581',\n '82966',\n '33797',\n '20464',\n '66006',\n '24761',\n '125563',\n '116404',\n '95045',\n '18685',\n '21913',\n '123477',\n '78779',\n '43303',\n '101860',\n '17970',\n '20715',\n '47648',\n '57511',\n '60813',\n '83257',\n '10934',\n '27587',\n '67664',\n '122808',\n '14691',\n '1112',\n '123238',\n '72744',\n '112912',\n '51934',\n '111635',\n '115353',\n '642',\n '39577',\n '5736',\n '35796',\n '121076',\n '125940',\n '109072',\n '112431',\n '54239',\n '96100',\n '74210',\n '55098',\n '3691',\n '36062',\n '122489',\n '12610',\n '25063',\n '76949',\n '69250',\n '126860',\n '37536',\n '58155',\n '33532',\n '10116',\n '86103',\n '18330',\n '49458',\n '77179',\n '1917',\n '117170',\n '99239',\n '55906',\n '91063',\n '113826',\n '1625',\n '42322',\n '122864',\n '100254',\n '64087',\n '28918',\n '113446',\n '76328',\n '56407',\n '56170',\n '125365',\n '65983',\n '747',\n '124689',\n '58494',\n '8396',\n '78900',\n '48541',\n '66200',\n '22105',\n '106116',\n '37655',\n '128315',\n '105707',\n '5801',\n '32509',\n '90416',\n '90831',\n '2217',\n '45793',\n '104265',\n '39436',\n '98170',\n '16270',\n '2736',\n '89821',\n '78341',\n '130363',\n '122218',\n '60471',\n '29521',\n '87390',\n '84882',\n '88199',\n '74905',\n '101413',\n '40270',\n '119480',\n '83697',\n '26778',\n '129360',\n '78905',\n '79045',\n '68460',\n '20696',\n '119158',\n '123235',\n '26187',\n '41669',\n '27443',\n '83801',\n '106055',\n '32109',\n '56404',\n '110505',\n '75633',\n '52613',\n '89242',\n '124913',\n '122349',\n '645',\n '40173',\n '57624',\n '72562',\n '34922',\n '65484',\n '27318',\n '130596',\n '120783',\n '63225',\n '114796',\n '12757',\n '79751',\n '90462',\n '21339',\n '111194',\n '85536',\n '26',\n '36833',\n '33927',\n '36781',\n '131237',\n '131043',\n '81463',\n '45773',\n '92500',\n '25115',\n '71302',\n '117837',\n '35777',\n '2686',\n '33429',\n '112527',\n '79515',\n '131322',\n '117018',\n '75042',\n '34013',\n '60115',\n '45365',\n '49749',\n '6909',\n '116216',\n '94022',\n '38868',\n '46847',\n '23372',\n '29880',\n '98926',\n '49700',\n '2166',\n '50174',\n '113049',\n '85820',\n '100187',\n '2164',\n '56954',\n '130439',\n '75059',\n '16332',\n '113386',\n '26204',\n '100733',\n '8462',\n '38985',\n '122740',\n '124653',\n '91328',\n '98431',\n '116947',\n '110790',\n '90450',\n '89091',\n '21147',\n '31265',\n '107770',\n '18507',\n '112372',\n '120091',\n '75223',\n '4390',\n '81166',\n '102655',\n '44645',\n '101425',\n '35152',\n '93535',\n '14362',\n '71297',\n '21479',\n '64995',\n '64136',\n '133026',\n '96615',\n '114817',\n '122938',\n '56669',\n '59379',\n '100286',\n '55462',\n '113081',\n '119317',\n '35303',\n '51986',\n '129446',\n '84037',\n '28194',\n '122518',\n '2760',\n '48471',\n '26339',\n '108930',\n '50267',\n '57461',\n '93762',\n '78424',\n '91586',\n '12203',\n '112069',\n '7287',\n '7004',\n '82158',\n '60164',\n '68077',\n '95880',\n '74939',\n '43031',\n '50223',\n '2109',\n '904',\n '90100',\n '39143',\n '38699',\n '71245',\n '5597',\n '20503',\n '44496',\n '88987',\n '119604',\n '126684',\n '87076',\n '69841',\n '23468',\n '80092',\n '65523',\n '20143',\n '81898',\n '83251',\n '120017',\n '11176',\n '604',\n '23265',\n '89588',\n '25230',\n '42310',\n '108450',\n '70770',\n '55539',\n '86202',\n '8711',\n '130355',\n '13805',\n '57974',\n '45246',\n '90012',\n '13758',\n '115313',\n '119863',\n '28797',\n '71776',\n '104318',\n '1575',\n '52138',\n '58750',\n '100581',\n '38251',\n '41132',\n '60694',\n '72438',\n '19877',\n '21452',\n '102756',\n '24650',\n '89425',\n '19779',\n '29738',\n '54021',\n '50010',\n '69191',\n '54247',\n '43131',\n '88930',\n '42633',\n '70075',\n '81711',\n '21501',\n '2167',\n '117094',\n '132948',\n '90049',\n '60117',\n '81311',\n '164',\n '37832',\n '121002',\n '126466',\n '58136',\n '81615',\n '96304',\n '101006',\n '97704',\n '68284',\n '83959',\n '11590',\n '81201',\n '40750',\n '127750',\n '122572',\n '132743',\n '35056',\n '69525',\n '86146',\n '19016',\n '9394',\n '32487',\n '104094',\n '124109',\n '81455',\n '109418',\n '49197',\n '94562',\n '61461',\n '79154',\n '121988',\n '25108',\n '57158',\n '20984',\n '34333',\n '1217',\n '41353',\n '129331',\n '72787',\n '49974',\n '122066',\n '128016',\n '112711',\n '124231',\n '68639',\n '80120',\n '56398',\n '59277',\n '118425',\n '89924',\n '92228',\n '65191',\n '73492',\n '114967',\n '92464',\n '59117',\n '108820',\n '57202',\n '25351',\n '57647',\n '102309',\n '82400',\n '80398',\n '40639',\n '47045',\n '123696',\n '89119',\n '109585',\n '8990',\n '28968',\n '19325',\n '110223',\n '126101',\n '8446',\n '8751',\n '32046',\n '42507',\n '44677',\n '35031',\n '58109',\n '5523',\n '13693',\n '70823',\n '51668',\n '50387',\n '119833',\n '130184',\n '56048',\n '122551',\n '97416',\n '87233',\n '2486',\n '101921',\n '42625',\n '12549',\n '56985',\n '11851',\n '22528',\n '34205',\n '116758',\n '110296',\n '106399',\n '131835',\n '18994',\n '21407',\n '106888',\n '119180',\n '32665',\n '128151',\n '84737',\n '16190',\n '13748',\n '103571',\n '99180',\n '66448',\n '3087',\n '118760',\n '78480',\n '569',\n '125189',\n '62406',\n '40826',\n '38343',\n '87066',\n '87760',\n '45229',\n '62849',\n '90272',\n '5429',\n '24676',\n '51425',\n '16972',\n '45167',\n '56768',\n '38697',\n '105609',\n '61452',\n '38589',\n '80777',\n '30731',\n '117446',\n '126106',\n '29489',\n '101626',\n '112950',\n '45439',\n '54582',\n '108094',\n '25164',\n '86842',\n '64836',\n '88221',\n '95179',\n '84609',\n '83284',\n '116179',\n '9929',\n '3337',\n '52043',\n '131413',\n '16444',\n '24933',\n '30476',\n '63071',\n '29802',\n '75388',\n '45565',\n '29356',\n '39536',\n '68375',\n '104166',\n '79943',\n '21791',\n '60598',\n '112184',\n '59569',\n '55094',\n '9409',\n '87607',\n '32754',\n '94788',\n '84506',\n '91008',\n '77436',\n '83425',\n '30698',\n '48869',\n '130549',\n '111232',\n '112091',\n '22569',\n '41419',\n '112427',\n '83466',\n '107060',\n '62404',\n '130780',\n '20914',\n '114474',\n '50282',\n '102905',\n '67127',\n '598',\n '48094',\n '31259',\n '7612',\n '100408',\n '28429',\n '104155',\n '29942',\n '6003',\n '118929',\n '94304',\n '41058',\n '6000',\n '74614',\n '56002',\n '92916',\n '95070',\n '24921',\n '110589',\n '52520',\n '16538',\n '45438',\n '39145',\n '98980',\n '123303',\n '14911',\n '124756',\n '130837',\n '100052',\n '43088',\n '119231',\n '15973',\n '132614',\n '74237',\n '39968',\n '15161',\n '25305',\n '81032',\n '27909',\n '88102',\n '132286',\n '112390',\n '24152',\n '73345',\n '100461',\n '105610',\n '9212',\n '124619',\n '27573',\n '124281',\n '20913',\n '58169',\n '12838',\n '35039',\n '3393',\n '110586',\n '111968',\n '112972',\n '104522',\n '88155',\n '112423',\n '98698',\n '113254',\n '74787',\n '17731',\n '116975',\n '9888',\n '64401',\n '23820',\n '82590',\n '94530',\n '132976',\n '16893',\n '27035',\n '28707',\n '81567',\n '78370',\n '59587',\n '107324',\n '38590',\n '12496',\n '37659',\n '25213',\n '12012',\n '121909',\n '1501',\n '13871',\n '105799',\n '56607',\n '64296',\n '130275',\n '101463',\n '131398',\n '6270',\n '6443',\n '78369',\n '85859',\n '124779',\n '126488',\n '28709',\n '124095',\n '30627',\n '61315',\n '90577',\n '6880',\n '95704',\n '14579',\n '17885',\n '2648',\n '11186',\n '75227',\n '128833',\n '129967',\n '67032',\n '51062',\n '101932',\n '92208',\n '110015',\n '119757',\n '88419',\n '128858',\n '30015',\n '48105',\n '31076',\n '38317',\n '92480',\n '6704',\n '127204',\n '94391',\n '35638',\n '122561',\n '85874',\n '65763',\n '88351',\n '15831',\n '116961',\n '7989',\n '64860',\n '100778',\n '81321',\n '105345',\n '106636',\n '82373',\n '128792',\n '85763',\n '76948',\n '92016',\n '84047',\n '33832',\n '71726',\n '25169',\n '105225',\n '5185',\n '63485',\n '99126',\n '131470',\n '108181',\n '45533',\n '107034',\n '25528',\n '26775',\n '50148',\n '96616',\n '120012',\n '32743',\n '125784',\n '124188',\n '42748',\n '123878',\n '107340',\n '35441',\n '68381',\n '127794',\n '97320',\n '94517',\n '99898',\n '32398',\n '69365',\n '5558',\n '59112',\n '67337',\n '64335',\n '54090',\n '87486',\n '80406',\n '73449',\n '69863',\n '8006',\n '59537',\n '45052',\n '21728',\n '91927',\n '31346',\n '60714',\n '15150',\n '130230',\n '60766',\n '120522',\n '12185',\n '20752',\n '2121',\n '12704',\n '53942',\n '32483',\n '59864',\n '62077',\n '9674',\n '114402',\n '24607',\n '81840',\n '111223',\n '64975',\n '113665',\n '37283',\n '86364',\n '1604',\n '23461',\n '50987',\n '92626',\n '56194',\n '48443',\n '51847',\n '123570',\n '61439',\n '100452',\n '44340',\n '17837',\n '124751',\n '128775',\n '12039',\n '824',\n '20762',\n '16265',\n '7477',\n '28143',\n '123244',\n '113053',\n '92817',\n '74059',\n '98412',\n '8143',\n '120335',\n '125612',\n '103265',\n '75547',\n '1950',\n '4501',\n '59535',\n '5876',\n '3430',\n '102748',\n '17944',\n '62220',\n '49387',\n '17689',\n '123487',\n '85993',\n '70241',\n '72610',\n '103837',\n '96923',\n '93326',\n '35953',\n '112747',\n '67618',\n '65267',\n '98326',\n '54110',\n '26821',\n '93235',\n '84204',\n '95',\n '25258',\n '17178',\n '43052',\n '75794',\n '54198',\n '116129',\n '99572',\n '82535',\n '43277',\n '48227',\n '108342',\n '9884',\n '103059',\n '6844',\n '51474',\n '41002',\n '114283',\n '83197',\n '99431',\n '9316',\n '82170',\n '131414',\n '67480',\n '107759',\n '50266',\n '54973',\n '108366',\n '84332',\n '121928',\n '114154',\n '119086',\n '28751',\n '56878',\n '19830',\n '27194',\n '98162',\n '38572',\n '2803',\n '132221',\n '53054',\n '39218',\n '57178',\n '2263',\n '41884',\n '132952',\n '127664',\n '1102',\n '77982',\n '25588',\n '70142',\n '81296',\n '93579',\n '3998',\n '92588',\n '14608',\n '126587',\n '66439',\n '87656',\n '78242',\n '115670',\n '21368',\n '47999',\n '16305',\n '65492',\n '7462',\n '31904',\n '40736',\n '62501',\n '754',\n '69903',\n '46153',\n '61080',\n '128814',\n '39063',\n '76750',\n '128545',\n '81357',\n '65937',\n '116881',\n '84773',\n '99802',\n '25773',\n '53359',\n ...}"
     },
     "execution_count": 137,
     "metadata": {},
     "output_type": "execute_result"
    }
   ],
   "source": [
    "components = nx.connected_components(G)\n",
    "nodes = max(components, key=len)\n",
    "nodes"
   ],
   "metadata": {
    "collapsed": false
   }
  },
  {
   "cell_type": "code",
   "execution_count": 138,
   "outputs": [
    {
     "name": "stdout",
     "output_type": "stream",
     "text": [
      "Graph with 17903 nodes and 197031 edges\n"
     ]
    }
   ],
   "source": [
    "H = G.subgraph(nodes)\n",
    "print(H)"
   ],
   "metadata": {
    "collapsed": false
   }
  },
  {
   "cell_type": "markdown",
   "source": [
    "Percentual de nós e arestas na **maior componente**:"
   ],
   "metadata": {
    "collapsed": false
   }
  },
  {
   "cell_type": "code",
   "execution_count": 139,
   "outputs": [
    {
     "data": {
      "text/plain": "0.9537076496910292"
     },
     "execution_count": 139,
     "metadata": {},
     "output_type": "execute_result"
    }
   ],
   "source": [
    "H.number_of_nodes() / G.number_of_nodes()"
   ],
   "metadata": {
    "collapsed": false
   }
  },
  {
   "cell_type": "code",
   "execution_count": 140,
   "outputs": [
    {
     "data": {
      "text/plain": "0.9945535308666902"
     },
     "execution_count": 140,
     "metadata": {},
     "output_type": "execute_result"
    }
   ],
   "source": [
    "H.number_of_edges() / G.number_of_edges()"
   ],
   "metadata": {
    "collapsed": false
   }
  },
  {
   "cell_type": "markdown",
   "source": [
    "## Distribuição dos graus"
   ],
   "metadata": {
    "collapsed": false
   }
  },
  {
   "cell_type": "markdown",
   "source": [
    "### Histograma"
   ],
   "metadata": {
    "collapsed": false
   }
  },
  {
   "cell_type": "code",
   "execution_count": 141,
   "outputs": [
    {
     "data": {
      "text/plain": "<Figure size 640x480 with 1 Axes>",
      "image/png": "[encoded data removed]"
     },
     "metadata": {},
     "output_type": "display_data"
    }
   ],
   "source": [
    "degree_list = [degree for node, degree in H.degree]\n",
    "degree_list = pd.Series(degree_list)\n",
    "degree_list.hist();"
   ],
   "metadata": {
    "collapsed": false
   }
  },
  {
   "cell_type": "code",
   "execution_count": 143,
   "outputs": [
    {
     "data": {
      "text/plain": "count    17903.000000\nmean        22.010948\nstd         31.016923\nmin          1.000000\n25%          4.000000\n50%         10.000000\n75%         28.000000\nmax        504.000000\ndtype: float64"
     },
     "execution_count": 143,
     "metadata": {},
     "output_type": "execute_result"
    }
   ],
   "source": [
    "degree_list.describe()"
   ],
   "metadata": {
    "collapsed": false
   }
  },
  {
   "cell_type": "markdown",
   "source": [
    "### Gráfico de *ranqueamento*"
   ],
   "metadata": {
    "collapsed": false
   }
  },
  {
   "cell_type": "markdown",
   "source": [
    "Apesar de ter cauda longa, não parece seguir Lei de Potência"
   ],
   "metadata": {
    "collapsed": false
   }
  },
  {
   "cell_type": "code",
   "execution_count": 144,
   "outputs": [
    {
     "data": {
      "text/plain": "<Figure size 640x480 with 1 Axes>",
      "image/png": "[encoded data removed]"
     },
     "metadata": {},
     "output_type": "display_data"
    }
   ],
   "source": [
    "y = degree_list.sort_values(ascending=False)\n",
    "x = range(len(y))\n",
    "plt.plot(x, y)\n",
    "plt.loglog()\n",
    "plt.xlabel('Posição (rank)')\n",
    "plt.ylabel('Grau do nó');"
   ],
   "metadata": {
    "collapsed": false
   }
  },
  {
   "cell_type": "markdown",
   "source": [
    "## Distâncias"
   ],
   "metadata": {
    "collapsed": false
   }
  },
  {
   "cell_type": "markdown",
   "source": [
    "Cálculo pode ser bastante demorado. Por isso vamos usar o módulo `approximation`:"
   ],
   "metadata": {
    "collapsed": false
   }
  },
  {
   "cell_type": "code",
   "execution_count": 145,
   "outputs": [
    {
     "data": {
      "text/plain": "14"
     },
     "execution_count": 145,
     "metadata": {},
     "output_type": "execute_result"
    }
   ],
   "source": [
    "nx.algorithms.approximation.diameter(H)"
   ],
   "metadata": {
    "collapsed": false
   }
  },
  {
   "cell_type": "code",
   "execution_count": 146,
   "outputs": [
    {
     "data": {
      "text/plain": "['1086',\n '21718',\n '35290',\n '38109',\n '53213',\n '92790',\n '89732',\n '93504',\n '62821']"
     },
     "execution_count": 146,
     "metadata": {},
     "output_type": "execute_result"
    }
   ],
   "source": [
    "top_nodes = [node for node, degree in H.degree if degree > 350]\n",
    "top_nodes"
   ],
   "metadata": {
    "collapsed": false
   }
  },
  {
   "cell_type": "code",
   "execution_count": 147,
   "outputs": [
    {
     "data": {
      "text/plain": "count    17903.000000\nmean         2.875663\nstd          0.845950\nmin          0.000000\n25%          2.000000\n50%          3.000000\n75%          3.000000\nmax          9.000000\ndtype: float64"
     },
     "execution_count": 147,
     "metadata": {},
     "output_type": "execute_result"
    }
   ],
   "source": [
    "distances = nx.shortest_path_length(H, '1086')\n",
    "distances = pd.Series(distances)\n",
    "distances.describe()"
   ],
   "metadata": {
    "collapsed": false
   }
  },
  {
   "cell_type": "code",
   "execution_count": 148,
   "outputs": [
    {
     "data": {
      "text/plain": "count    17903.000000\nmean         2.858459\nstd          0.844698\nmin          0.000000\n25%          2.000000\n50%          3.000000\n75%          3.000000\nmax          9.000000\ndtype: float64"
     },
     "execution_count": 148,
     "metadata": {},
     "output_type": "execute_result"
    }
   ],
   "source": [
    "distances = nx.shortest_path_length(H, '62821')\n",
    "distances = pd.Series(distances)\n",
    "distances.describe()"
   ],
   "metadata": {
    "collapsed": false
   }
  },
  {
   "cell_type": "markdown",
   "source": [
    "## Clusterização"
   ],
   "metadata": {
    "collapsed": false
   }
  },
  {
   "cell_type": "markdown",
   "source": [
    "Mais uma vez, vamos usar uma **aproximação**:"
   ],
   "metadata": {
    "collapsed": false
   }
  },
  {
   "cell_type": "code",
   "execution_count": 149,
   "outputs": [
    {
     "data": {
      "text/plain": "0.65"
     },
     "execution_count": 149,
     "metadata": {},
     "output_type": "execute_result"
    }
   ],
   "source": [
    "nx.algorithms.approximation.average_clustering(H)"
   ],
   "metadata": {
    "collapsed": false
   }
  },
  {
   "cell_type": "markdown",
   "source": [
    "## Comparação com rede aleatória Erdös-Rényi"
   ],
   "metadata": {
    "collapsed": false
   }
  },
  {
   "cell_type": "code",
   "execution_count": 150,
   "outputs": [
    {
     "name": "stdout",
     "output_type": "stream",
     "text": [
      "Graph with 18772 nodes and 197308 edges\n"
     ]
    }
   ],
   "source": [
    "num_nodes = G.number_of_nodes()\n",
    "density = nx.density(G)\n",
    "random_graph = nx.erdos_renyi_graph(num_nodes, density, seed=42)\n",
    "print(random_graph)"
   ],
   "metadata": {
    "collapsed": false
   }
  },
  {
   "cell_type": "markdown",
   "source": [
    "### Clusterização"
   ],
   "metadata": {
    "collapsed": false
   }
  },
  {
   "cell_type": "code",
   "execution_count": 151,
   "outputs": [
    {
     "data": {
      "text/plain": "0.626"
     },
     "execution_count": 151,
     "metadata": {},
     "output_type": "execute_result"
    }
   ],
   "source": [
    "nx.algorithms.approximation.average_clustering(H)"
   ],
   "metadata": {
    "collapsed": false
   }
  },
  {
   "cell_type": "code",
   "execution_count": 152,
   "outputs": [
    {
     "data": {
      "text/plain": "0.0"
     },
     "execution_count": 152,
     "metadata": {},
     "output_type": "execute_result"
    }
   ],
   "source": [
    "nx.algorithms.approximation.average_clustering(random_graph)"
   ],
   "metadata": {
    "collapsed": false
   }
  },
  {
   "cell_type": "markdown",
   "source": [
    "### Número de componentes"
   ],
   "metadata": {
    "collapsed": false
   }
  },
  {
   "cell_type": "code",
   "execution_count": 153,
   "outputs": [
    {
     "data": {
      "text/plain": "290"
     },
     "execution_count": 153,
     "metadata": {},
     "output_type": "execute_result"
    }
   ],
   "source": [
    "nx.number_connected_components(G)"
   ],
   "metadata": {
    "collapsed": false
   }
  },
  {
   "cell_type": "code",
   "execution_count": 154,
   "outputs": [
    {
     "data": {
      "text/plain": "1"
     },
     "execution_count": 154,
     "metadata": {},
     "output_type": "execute_result"
    }
   ],
   "source": [
    "nx.number_connected_components(random_graph)"
   ],
   "metadata": {
    "collapsed": false
   }
  },
  {
   "cell_type": "markdown",
   "source": [
    "### Diâmetro"
   ],
   "metadata": {
    "collapsed": false
   }
  },
  {
   "cell_type": "code",
   "execution_count": 155,
   "outputs": [
    {
     "data": {
      "text/plain": "14"
     },
     "execution_count": 155,
     "metadata": {},
     "output_type": "execute_result"
    }
   ],
   "source": [
    "nx.algorithms.approximation.diameter(H)"
   ],
   "metadata": {
    "collapsed": false
   }
  },
  {
   "cell_type": "code",
   "execution_count": 156,
   "outputs": [
    {
     "data": {
      "text/plain": "5"
     },
     "execution_count": 156,
     "metadata": {},
     "output_type": "execute_result"
    }
   ],
   "source": [
    "nx.algorithms.approximation.diameter(random_graph)"
   ],
   "metadata": {
    "collapsed": false
   }
  },
  {
   "cell_type": "markdown",
   "source": [
    "### Distribuição dos graus"
   ],
   "metadata": {
    "collapsed": false
   }
  },
  {
   "cell_type": "code",
   "execution_count": 157,
   "outputs": [
    {
     "data": {
      "text/plain": "<Figure size 640x480 with 1 Axes>",
      "image/png": "[encoded data removed]"
     },
     "metadata": {},
     "output_type": "display_data"
    }
   ],
   "source": [
    "degree_list = [degree for node, degree in G.degree]\n",
    "degree_list = pd.Series(degree_list)\n",
    "degree_list.hist();"
   ],
   "metadata": {
    "collapsed": false
   }
  },
  {
   "cell_type": "code",
   "execution_count": 158,
   "outputs": [
    {
     "data": {
      "text/plain": "<Figure size 640x480 with 1 Axes>",
      "image/png": "[encoded data removed]"
     },
     "metadata": {},
     "output_type": "display_data"
    }
   ],
   "source": [
    "rng_degree_list = [degree for node, degree in random_graph.degree]\n",
    "rng_degree_list = pd.Series(rng_degree_list)\n",
    "rng_degree_list.hist();"
   ],
   "metadata": {
    "collapsed": false
   }
  },
  {
   "cell_type": "markdown",
   "source": [
    "# 2. Internet\n",
    "\n",
    "\"*Fotografia*\" tirada em novembro de 2007\n",
    "\n",
    "[Link para o dataset](https://snap.stanford.edu/data/as-Caida.html)\n",
    "\n",
    "Referência:\n",
    "- J. Leskovec, J. Kleinberg and C. Faloutsos. Graphs over Time: Densification Laws, Shrinking Diameters and Possible Explanations. ACM SIGKDD International Conference on Knowledge Discovery and Data Mining (KDD), 2005."
   ],
   "metadata": {
    "collapsed": false
   }
  },
  {
   "cell_type": "code",
   "execution_count": 159,
   "outputs": [
    {
     "data": {
      "text/plain": "'as-caida20071105.txt.gz'"
     },
     "execution_count": 159,
     "metadata": {},
     "output_type": "execute_result"
    }
   ],
   "source": [
    "url = 'https://snap.stanford.edu/data/as-caida20071105.txt.gz'\n",
    "file_path = download_file(url)\n",
    "file_path"
   ],
   "metadata": {
    "collapsed": false
   }
  },
  {
   "cell_type": "code",
   "execution_count": 160,
   "outputs": [
    {
     "name": "stdout",
     "output_type": "stream",
     "text": [
      "Graph with 26475 nodes and 53381 edges\n"
     ]
    }
   ],
   "source": [
    "G = nx.read_weighted_edgelist(file_path)\n",
    "print(G)"
   ],
   "metadata": {
    "collapsed": false
   }
  },
  {
   "cell_type": "markdown",
   "source": [
    "## Densidade da rede"
   ],
   "metadata": {
    "collapsed": false
   }
  },
  {
   "cell_type": "markdown",
   "source": [
    "Dez vezes menor do que a rede de colaboração!"
   ],
   "metadata": {
    "collapsed": false
   }
  },
  {
   "cell_type": "code",
   "execution_count": 161,
   "outputs": [
    {
     "data": {
      "text/plain": "0.0001523214859084934"
     },
     "execution_count": 161,
     "metadata": {},
     "output_type": "execute_result"
    }
   ],
   "source": [
    "nx.density(G)"
   ],
   "metadata": {
    "collapsed": false
   }
  },
  {
   "cell_type": "markdown",
   "source": [
    "## Conectividade"
   ],
   "metadata": {
    "collapsed": false
   }
  },
  {
   "cell_type": "markdown",
   "source": [
    "Faz sentido que a rede seja conectada:"
   ],
   "metadata": {
    "collapsed": false
   }
  },
  {
   "cell_type": "code",
   "execution_count": 162,
   "outputs": [
    {
     "data": {
      "text/plain": "True"
     },
     "execution_count": 162,
     "metadata": {},
     "output_type": "execute_result"
    }
   ],
   "source": [
    "nx.is_connected(G)"
   ],
   "metadata": {
    "collapsed": false
   }
  },
  {
   "cell_type": "markdown",
   "source": [
    "Só existe uma **componente conexa** na rede:"
   ],
   "metadata": {
    "collapsed": false
   }
  },
  {
   "cell_type": "code",
   "execution_count": 163,
   "outputs": [
    {
     "data": {
      "text/plain": "1"
     },
     "execution_count": 163,
     "metadata": {},
     "output_type": "execute_result"
    }
   ],
   "source": [
    "nx.number_connected_components(G)"
   ],
   "metadata": {
    "collapsed": false
   }
  },
  {
   "cell_type": "markdown",
   "source": [
    "## Distribuição dos graus"
   ],
   "metadata": {
    "collapsed": false
   }
  },
  {
   "cell_type": "markdown",
   "source": [
    "### Histograma"
   ],
   "metadata": {
    "collapsed": false
   }
  },
  {
   "cell_type": "code",
   "execution_count": 164,
   "outputs": [
    {
     "data": {
      "text/plain": "<Figure size 640x480 with 1 Axes>",
      "image/png": "[encoded data removed]"
     },
     "metadata": {},
     "output_type": "display_data"
    }
   ],
   "source": [
    "degree_list = [degree for node, degree in G.degree]\n",
    "degree_list = pd.Series(degree_list)\n",
    "degree_list.hist();"
   ],
   "metadata": {
    "collapsed": false
   }
  },
  {
   "cell_type": "code",
   "execution_count": 165,
   "outputs": [
    {
     "data": {
      "text/plain": "count    26475.000000\nmean         4.032559\nstd         33.374795\nmin          1.000000\n25%          1.000000\n50%          2.000000\n75%          2.000000\nmax       2628.000000\ndtype: float64"
     },
     "execution_count": 165,
     "metadata": {},
     "output_type": "execute_result"
    }
   ],
   "source": [
    "degree_list.describe()"
   ],
   "metadata": {
    "collapsed": false
   }
  },
  {
   "cell_type": "markdown",
   "source": [
    "### Gráfico de *ranqueamento*"
   ],
   "metadata": {
    "collapsed": false
   }
  },
  {
   "cell_type": "markdown",
   "source": [
    "Provavelmente uma Lei de Potência!"
   ],
   "metadata": {
    "collapsed": false
   }
  },
  {
   "cell_type": "code",
   "execution_count": 166,
   "outputs": [
    {
     "data": {
      "text/plain": "<Figure size 640x480 with 1 Axes>",
      "image/png": "[encoded data removed]"
     },
     "metadata": {},
     "output_type": "display_data"
    }
   ],
   "source": [
    "y = degree_list.sort_values(ascending=False)\n",
    "x = range(len(y))\n",
    "plt.plot(x, y)\n",
    "plt.loglog()\n",
    "plt.xlabel('Posição (rank)')\n",
    "plt.ylabel('Grau do nó');"
   ],
   "metadata": {
    "collapsed": false
   }
  },
  {
   "cell_type": "markdown",
   "source": [
    "## Distâncias"
   ],
   "metadata": {
    "collapsed": false
   }
  },
  {
   "cell_type": "markdown",
   "source": [
    "Novamente usaremos a aproximação:"
   ],
   "metadata": {
    "collapsed": false
   }
  },
  {
   "cell_type": "code",
   "execution_count": 167,
   "outputs": [
    {
     "data": {
      "text/plain": "17"
     },
     "execution_count": 167,
     "metadata": {},
     "output_type": "execute_result"
    }
   ],
   "source": [
    "nx.algorithms.approximation.diameter(G)"
   ],
   "metadata": {
    "collapsed": false
   }
  },
  {
   "cell_type": "code",
   "execution_count": 168,
   "outputs": [
    {
     "data": {
      "text/plain": "['174', '3356', '7018', '701', '1239']"
     },
     "execution_count": 168,
     "metadata": {},
     "output_type": "execute_result"
    }
   ],
   "source": [
    "top_nodes = [node for node, degree in G.degree if degree > 1500]\n",
    "top_nodes"
   ],
   "metadata": {
    "collapsed": false
   }
  },
  {
   "cell_type": "code",
   "execution_count": 169,
   "outputs": [
    {
     "data": {
      "text/plain": "count    26475.000000\nmean         2.421870\nstd          0.728787\nmin          0.000000\n25%          2.000000\n50%          2.000000\n75%          3.000000\nmax         13.000000\ndtype: float64"
     },
     "execution_count": 169,
     "metadata": {},
     "output_type": "execute_result"
    }
   ],
   "source": [
    "distances = nx.shortest_path_length(G, '174')\n",
    "distances = pd.Series(distances)\n",
    "distances.describe()"
   ],
   "metadata": {
    "collapsed": false
   }
  },
  {
   "cell_type": "code",
   "execution_count": 170,
   "outputs": [
    {
     "data": {
      "text/plain": "count    26475.000000\nmean         2.330538\nstd          0.675398\nmin          0.000000\n25%          2.000000\n50%          2.000000\n75%          3.000000\nmax         13.000000\ndtype: float64"
     },
     "execution_count": 170,
     "metadata": {},
     "output_type": "execute_result"
    }
   ],
   "source": [
    "distances = nx.shortest_path_length(G, '3356')\n",
    "distances = pd.Series(distances)\n",
    "distances.describe()"
   ],
   "metadata": {
    "collapsed": false
   }
  },
  {
   "cell_type": "markdown",
   "source": [
    "## Clusterização"
   ],
   "metadata": {
    "collapsed": false
   }
  },
  {
   "cell_type": "markdown",
   "source": [
    "Três vezes menor do que a da *Rede de colaboração*:"
   ],
   "metadata": {
    "collapsed": false
   }
  },
  {
   "cell_type": "code",
   "execution_count": 171,
   "outputs": [
    {
     "data": {
      "text/plain": "0.208"
     },
     "execution_count": 171,
     "metadata": {},
     "output_type": "execute_result"
    }
   ],
   "source": [
    "nx.algorithms.approximation.average_clustering(G)"
   ],
   "metadata": {
    "collapsed": false
   }
  },
  {
   "cell_type": "markdown",
   "source": [
    "## Comparação com rede aleatória Erdös-Rényi"
   ],
   "metadata": {
    "collapsed": false
   }
  },
  {
   "cell_type": "code",
   "execution_count": 172,
   "outputs": [
    {
     "name": "stdout",
     "output_type": "stream",
     "text": [
      "Graph with 26475 nodes and 53285 edges\n"
     ]
    }
   ],
   "source": [
    "num_nodes = G.number_of_nodes()\n",
    "density = nx.density(G)\n",
    "random_graph = nx.erdos_renyi_graph(num_nodes, density, seed=42)\n",
    "print(random_graph)"
   ],
   "metadata": {
    "collapsed": false
   }
  },
  {
   "cell_type": "markdown",
   "source": [
    "### Clusterização"
   ],
   "metadata": {
    "collapsed": false
   }
  },
  {
   "cell_type": "code",
   "execution_count": 173,
   "outputs": [
    {
     "data": {
      "text/plain": "0.209"
     },
     "execution_count": 173,
     "metadata": {},
     "output_type": "execute_result"
    }
   ],
   "source": [
    "nx.algorithms.approximation.average_clustering(G)"
   ],
   "metadata": {
    "collapsed": false
   }
  },
  {
   "cell_type": "code",
   "execution_count": 174,
   "outputs": [
    {
     "data": {
      "text/plain": "0.0"
     },
     "execution_count": 174,
     "metadata": {},
     "output_type": "execute_result"
    }
   ],
   "source": [
    "nx.algorithms.approximation.average_clustering(random_graph)"
   ],
   "metadata": {
    "collapsed": false
   }
  },
  {
   "cell_type": "markdown",
   "source": [
    "### Número de componentes"
   ],
   "metadata": {
    "collapsed": false
   }
  },
  {
   "cell_type": "code",
   "execution_count": 175,
   "outputs": [
    {
     "data": {
      "text/plain": "1"
     },
     "execution_count": 175,
     "metadata": {},
     "output_type": "execute_result"
    }
   ],
   "source": [
    "nx.number_connected_components(G)"
   ],
   "metadata": {
    "collapsed": false
   }
  },
  {
   "cell_type": "code",
   "execution_count": 176,
   "outputs": [
    {
     "data": {
      "text/plain": "474"
     },
     "execution_count": 176,
     "metadata": {},
     "output_type": "execute_result"
    }
   ],
   "source": [
    "nx.number_connected_components(random_graph)"
   ],
   "metadata": {
    "collapsed": false
   }
  },
  {
   "cell_type": "markdown",
   "source": [
    "### Diâmetro"
   ],
   "metadata": {
    "collapsed": false
   }
  },
  {
   "cell_type": "code",
   "execution_count": 177,
   "outputs": [
    {
     "data": {
      "text/plain": "17"
     },
     "execution_count": 177,
     "metadata": {},
     "output_type": "execute_result"
    }
   ],
   "source": [
    "nx.algorithms.approximation.diameter(G)"
   ],
   "metadata": {
    "collapsed": false
   }
  },
  {
   "cell_type": "code",
   "execution_count": 179,
   "outputs": [
    {
     "ename": "NetworkXError",
     "evalue": "Graph not connected.",
     "output_type": "error",
     "traceback": [
      "\u001B[1;31m---------------------------------------------------------------------------\u001B[0m",
      "\u001B[1;31mNetworkXError\u001B[0m                             Traceback (most recent call last)",
      "Cell \u001B[1;32mIn[179], line 1\u001B[0m\n\u001B[1;32m----> 1\u001B[0m \u001B[43mnx\u001B[49m\u001B[38;5;241;43m.\u001B[39;49m\u001B[43malgorithms\u001B[49m\u001B[38;5;241;43m.\u001B[39;49m\u001B[43mapproximation\u001B[49m\u001B[38;5;241;43m.\u001B[39;49m\u001B[43mdiameter\u001B[49m\u001B[43m(\u001B[49m\u001B[43mrandom_graph\u001B[49m\u001B[43m)\u001B[49m\n",
      "File \u001B[1;32m<class 'networkx.utils.decorators.argmap'> compilation 21:4\u001B[0m, in \u001B[0;36margmap_diameter_18\u001B[1;34m(G, seed)\u001B[0m\n\u001B[0;32m      2\u001B[0m \u001B[38;5;28;01mimport\u001B[39;00m \u001B[38;5;21;01mcollections\u001B[39;00m\n\u001B[0;32m      3\u001B[0m \u001B[38;5;28;01mimport\u001B[39;00m \u001B[38;5;21;01mgzip\u001B[39;00m\n\u001B[1;32m----> 4\u001B[0m \u001B[38;5;28;01mimport\u001B[39;00m \u001B[38;5;21;01minspect\u001B[39;00m\n\u001B[0;32m      5\u001B[0m \u001B[38;5;28;01mimport\u001B[39;00m \u001B[38;5;21;01mitertools\u001B[39;00m\n\u001B[0;32m      6\u001B[0m \u001B[38;5;28;01mimport\u001B[39;00m \u001B[38;5;21;01mre\u001B[39;00m\n",
      "File \u001B[1;32m~\\venv-descomplica\\lib\\site-packages\\networkx\\algorithms\\approximation\\distance_measures.py:74\u001B[0m, in \u001B[0;36mdiameter\u001B[1;34m(G, seed)\u001B[0m\n\u001B[0;32m     72\u001B[0m     \u001B[38;5;28;01mreturn\u001B[39;00m _two_sweep_directed(G, seed)\n\u001B[0;32m     73\u001B[0m \u001B[38;5;66;03m# else if G is undirected\u001B[39;00m\n\u001B[1;32m---> 74\u001B[0m \u001B[38;5;28;01mreturn\u001B[39;00m \u001B[43m_two_sweep_undirected\u001B[49m\u001B[43m(\u001B[49m\u001B[43mG\u001B[49m\u001B[43m,\u001B[49m\u001B[43m \u001B[49m\u001B[43mseed\u001B[49m\u001B[43m)\u001B[49m\n",
      "File \u001B[1;32m~\\venv-descomplica\\lib\\site-packages\\networkx\\algorithms\\approximation\\distance_measures.py:96\u001B[0m, in \u001B[0;36m_two_sweep_undirected\u001B[1;34m(G, seed)\u001B[0m\n\u001B[0;32m     94\u001B[0m \u001B[38;5;66;03m# if some nodes have not been visited, then the graph is not connected\u001B[39;00m\n\u001B[0;32m     95\u001B[0m \u001B[38;5;28;01mif\u001B[39;00m \u001B[38;5;28mlen\u001B[39m(distances) \u001B[38;5;241m!=\u001B[39m \u001B[38;5;28mlen\u001B[39m(G):\n\u001B[1;32m---> 96\u001B[0m     \u001B[38;5;28;01mraise\u001B[39;00m nx\u001B[38;5;241m.\u001B[39mNetworkXError(\u001B[38;5;124m\"\u001B[39m\u001B[38;5;124mGraph not connected.\u001B[39m\u001B[38;5;124m\"\u001B[39m)\n\u001B[0;32m     97\u001B[0m \u001B[38;5;66;03m# take a node that is (one of) the farthest nodes from the source\u001B[39;00m\n\u001B[0;32m     98\u001B[0m \u001B[38;5;241m*\u001B[39m_, node \u001B[38;5;241m=\u001B[39m distances\n",
      "\u001B[1;31mNetworkXError\u001B[0m: Graph not connected."
     ]
    }
   ],
   "source": [
    "nx.algorithms.approximation.diameter(random_graph)"
   ],
   "metadata": {
    "collapsed": false
   }
  },
  {
   "cell_type": "markdown",
   "source": [
    "Maior componente conexa do grafo aleatório:"
   ],
   "metadata": {
    "collapsed": false
   }
  },
  {
   "cell_type": "code",
   "execution_count": 180,
   "outputs": [
    {
     "name": "stdout",
     "output_type": "stream",
     "text": [
      "Graph with 25980 nodes and 53263 edges\n"
     ]
    }
   ],
   "source": [
    "components = nx.connected_components(random_graph)\n",
    "nodes = max(components, key=len)\n",
    "random_graph_comp = random_graph.subgraph(nodes)\n",
    "print(random_graph_comp)"
   ],
   "metadata": {
    "collapsed": false
   }
  },
  {
   "cell_type": "code",
   "execution_count": 181,
   "outputs": [
    {
     "data": {
      "text/plain": "15"
     },
     "execution_count": 181,
     "metadata": {},
     "output_type": "execute_result"
    }
   ],
   "source": [
    "nx.algorithms.approximation.diameter(random_graph_comp)"
   ],
   "metadata": {
    "collapsed": false
   }
  },
  {
   "cell_type": "markdown",
   "source": [
    "### Distribuição dos graus"
   ],
   "metadata": {
    "collapsed": false
   }
  },
  {
   "cell_type": "code",
   "execution_count": 182,
   "outputs": [
    {
     "data": {
      "text/plain": "<Figure size 640x480 with 1 Axes>",
      "image/png": "[encoded data removed]"
     },
     "metadata": {},
     "output_type": "display_data"
    }
   ],
   "source": [
    "degree_list = [degree for node, degree in G.degree]\n",
    "degree_list = pd.Series(degree_list)\n",
    "degree_list.hist();"
   ],
   "metadata": {
    "collapsed": false
   }
  },
  {
   "cell_type": "code",
   "execution_count": 183,
   "outputs": [
    {
     "data": {
      "text/plain": "<Figure size 640x480 with 1 Axes>",
      "image/png": "[encoded data removed]"
     },
     "metadata": {},
     "output_type": "display_data"
    }
   ],
   "source": [
    "rng_degree_list = [degree for node, degree in random_graph.degree]\n",
    "rng_degree_list = pd.Series(rng_degree_list)\n",
    "rng_degree_list.hist();"
   ],
   "metadata": {
    "collapsed": false
   }
  },
  {
   "cell_type": "markdown",
   "source": [
    "# 3. Estradas\n",
    "\n",
    "- Rede rodoviária do estado da Pensilvânia, EUA.\n",
    "- Rede **direcionada**.\n",
    "\n",
    "[Link para o dataset](https://snap.stanford.edu/data/roadNet-PA.html)\n",
    "\n",
    "Referência:\n",
    "- J. Leskovec, K. Lang, A. Dasgupta, M. Mahoney. Community Structure in Large Networks: Natural Cluster Sizes and the Absence of Large Well-Defined Clusters. Internet Mathematics 6(1) 29--123, 2009."
   ],
   "metadata": {
    "collapsed": false
   }
  },
  {
   "cell_type": "code",
   "execution_count": 184,
   "outputs": [
    {
     "data": {
      "text/plain": "'roadNet-PA.txt.gz'"
     },
     "execution_count": 184,
     "metadata": {},
     "output_type": "execute_result"
    }
   ],
   "source": [
    "url = 'https://snap.stanford.edu/data/roadNet-PA.txt.gz'\n",
    "file_path = download_file(url)\n",
    "file_path"
   ],
   "metadata": {
    "collapsed": false
   }
  },
  {
   "cell_type": "markdown",
   "source": [
    "Essa rede pode demorar para carregar!"
   ],
   "metadata": {
    "collapsed": false
   }
  },
  {
   "cell_type": "code",
   "execution_count": 185,
   "outputs": [
    {
     "name": "stdout",
     "output_type": "stream",
     "text": [
      "DiGraph with 1088092 nodes and 3083796 edges\n"
     ]
    }
   ],
   "source": [
    "G = nx.read_edgelist(file_path, create_using=nx.DiGraph)\n",
    "print(G)"
   ],
   "metadata": {
    "collapsed": false
   }
  },
  {
   "cell_type": "markdown",
   "source": [
    "## Densidade da rede"
   ],
   "metadata": {
    "collapsed": false
   }
  },
  {
   "cell_type": "markdown",
   "source": [
    "Muito menor do que as outras! Por quê?"
   ],
   "metadata": {
    "collapsed": false
   }
  },
  {
   "cell_type": "code",
   "execution_count": 186,
   "outputs": [
    {
     "data": {
      "text/plain": "2.6046825795723353e-06"
     },
     "execution_count": 186,
     "metadata": {},
     "output_type": "execute_result"
    }
   ],
   "source": [
    "nx.density(G)"
   ],
   "metadata": {
    "collapsed": false
   }
  },
  {
   "cell_type": "markdown",
   "source": [
    "## Conectividade"
   ],
   "metadata": {
    "collapsed": false
   }
  },
  {
   "cell_type": "markdown",
   "source": [
    "Fortemente conexo -> caminho de **ida e volta**"
   ],
   "metadata": {
    "collapsed": false
   }
  },
  {
   "cell_type": "code",
   "execution_count": 187,
   "outputs": [
    {
     "data": {
      "text/plain": "False"
     },
     "execution_count": 187,
     "metadata": {},
     "output_type": "execute_result"
    }
   ],
   "source": [
    "nx.is_strongly_connected(G)"
   ],
   "metadata": {
    "collapsed": false
   }
  },
  {
   "cell_type": "markdown",
   "source": [
    "Quantas **componentes conexas fortes** existem na rede?"
   ],
   "metadata": {
    "collapsed": false
   }
  },
  {
   "cell_type": "code",
   "execution_count": 188,
   "outputs": [
    {
     "data": {
      "text/plain": "206"
     },
     "execution_count": 188,
     "metadata": {},
     "output_type": "execute_result"
    }
   ],
   "source": [
    "nx.number_strongly_connected_components(G)"
   ],
   "metadata": {
    "collapsed": false
   }
  },
  {
   "cell_type": "markdown",
   "source": [
    "Separando a **maior componente conexa forte**:"
   ],
   "metadata": {
    "collapsed": false
   }
  },
  {
   "cell_type": "code",
   "execution_count": 189,
   "outputs": [
    {
     "name": "stdout",
     "output_type": "stream",
     "text": [
      "DiGraph with 1087562 nodes and 3083028 edges\n"
     ]
    }
   ],
   "source": [
    "components = nx.strongly_connected_components(G)\n",
    "nodes = max(components, key=len)\n",
    "H = G.subgraph(nodes)\n",
    "print(H)"
   ],
   "metadata": {
    "collapsed": false
   }
  },
  {
   "cell_type": "markdown",
   "source": [
    "Percentual de nós e arestas na **maior componente**:"
   ],
   "metadata": {
    "collapsed": false
   }
  },
  {
   "cell_type": "code",
   "execution_count": 190,
   "outputs": [
    {
     "data": {
      "text/plain": "0.9995129088349147"
     },
     "execution_count": 190,
     "metadata": {},
     "output_type": "execute_result"
    }
   ],
   "source": [
    "H.number_of_nodes() / G.number_of_nodes()"
   ],
   "metadata": {
    "collapsed": false
   }
  },
  {
   "cell_type": "code",
   "execution_count": 191,
   "outputs": [
    {
     "data": {
      "text/plain": "0.9997509562889374"
     },
     "execution_count": 191,
     "metadata": {},
     "output_type": "execute_result"
    }
   ],
   "source": [
    "H.number_of_edges() / G.number_of_edges()"
   ],
   "metadata": {
    "collapsed": false
   }
  },
  {
   "cell_type": "markdown",
   "source": [
    "## Distribuição dos graus"
   ],
   "metadata": {
    "collapsed": false
   }
  },
  {
   "cell_type": "markdown",
   "source": [
    "### Histograma"
   ],
   "metadata": {
    "collapsed": false
   }
  },
  {
   "cell_type": "markdown",
   "source": [
    "Grau de entrada:"
   ],
   "metadata": {
    "collapsed": false
   }
  },
  {
   "cell_type": "code",
   "execution_count": 192,
   "outputs": [
    {
     "data": {
      "text/plain": "<Figure size 640x480 with 1 Axes>",
      "image/png": "[encoded data removed]"
     },
     "metadata": {},
     "output_type": "display_data"
    }
   ],
   "source": [
    "in_degree_list = [degree for node, degree in G.in_degree]\n",
    "in_degree_list = pd.Series(in_degree_list)\n",
    "in_degree_list.hist();"
   ],
   "metadata": {
    "collapsed": false
   }
  },
  {
   "cell_type": "code",
   "execution_count": 193,
   "outputs": [
    {
     "data": {
      "text/plain": "count    1.088092e+06\nmean     2.834132e+00\nstd      1.016930e+00\nmin      1.000000e+00\n25%      2.000000e+00\n50%      3.000000e+00\n75%      4.000000e+00\nmax      9.000000e+00\ndtype: float64"
     },
     "execution_count": 193,
     "metadata": {},
     "output_type": "execute_result"
    }
   ],
   "source": [
    "in_degree_list.describe()"
   ],
   "metadata": {
    "collapsed": false
   }
  },
  {
   "cell_type": "markdown",
   "source": [
    "Grau de saída:"
   ],
   "metadata": {
    "collapsed": false
   }
  },
  {
   "cell_type": "code",
   "execution_count": 194,
   "outputs": [
    {
     "data": {
      "text/plain": "<Figure size 640x480 with 1 Axes>",
      "image/png": "[encoded data removed]"
     },
     "metadata": {},
     "output_type": "display_data"
    }
   ],
   "source": [
    "out_degree_list = [degree for node, degree in G.out_degree]\n",
    "out_degree_list = pd.Series(out_degree_list)\n",
    "out_degree_list.hist();"
   ],
   "metadata": {
    "collapsed": false
   }
  },
  {
   "cell_type": "code",
   "execution_count": 195,
   "outputs": [
    {
     "data": {
      "text/plain": "count    1.088092e+06\nmean     2.834132e+00\nstd      1.016930e+00\nmin      1.000000e+00\n25%      2.000000e+00\n50%      3.000000e+00\n75%      4.000000e+00\nmax      9.000000e+00\ndtype: float64"
     },
     "execution_count": 195,
     "metadata": {},
     "output_type": "execute_result"
    }
   ],
   "source": [
    "out_degree_list.describe()"
   ],
   "metadata": {
    "collapsed": false
   }
  },
  {
   "cell_type": "markdown",
   "source": [
    "### Gráfico de *ranqueamento*"
   ],
   "metadata": {
    "collapsed": false
   }
  },
  {
   "cell_type": "markdown",
   "source": [
    "Certamente não segue Lei de Potência:"
   ],
   "metadata": {
    "collapsed": false
   }
  },
  {
   "cell_type": "code",
   "execution_count": 196,
   "outputs": [
    {
     "data": {
      "text/plain": "<Figure size 640x480 with 1 Axes>",
      "image/png": "[encoded data removed]"
     },
     "metadata": {},
     "output_type": "display_data"
    }
   ],
   "source": [
    "y = in_degree_list.sort_values(ascending=False)\n",
    "x = range(len(y))\n",
    "plt.plot(x, y)\n",
    "plt.loglog()\n",
    "plt.xlabel('Posição (rank)')\n",
    "plt.ylabel('Grau do nó');"
   ],
   "metadata": {
    "collapsed": false
   }
  },
  {
   "cell_type": "markdown",
   "source": [
    "## Distâncias"
   ],
   "metadata": {
    "collapsed": false
   }
  },
  {
   "cell_type": "markdown",
   "source": [
    "Limite inferior para o diâmetro:"
   ],
   "metadata": {
    "collapsed": false
   }
  },
  {
   "cell_type": "code",
   "execution_count": 197,
   "outputs": [
    {
     "data": {
      "text/plain": "789"
     },
     "execution_count": 197,
     "metadata": {},
     "output_type": "execute_result"
    }
   ],
   "source": [
    "nx.algorithms.approximation.diameter(H)"
   ],
   "metadata": {
    "collapsed": false
   }
  },
  {
   "cell_type": "code",
   "execution_count": 198,
   "outputs": [
    {
     "data": {
      "text/plain": "count    1.087562e+06\nmean     2.857163e+02\nstd      1.085169e+02\nmin      0.000000e+00\n25%      2.070000e+02\n50%      2.940000e+02\n75%      3.610000e+02\nmax      5.410000e+02\ndtype: float64"
     },
     "execution_count": 198,
     "metadata": {},
     "output_type": "execute_result"
    }
   ],
   "source": [
    "distances = nx.shortest_path_length(H, '0')\n",
    "distances = pd.Series(distances)\n",
    "distances.describe()"
   ],
   "metadata": {
    "collapsed": false
   }
  },
  {
   "cell_type": "markdown",
   "source": [
    "## Clusterização"
   ],
   "metadata": {
    "collapsed": false
   }
  },
  {
   "cell_type": "markdown",
   "source": [
    "Vamos criar uma cópia **não direcionada** da rede:"
   ],
   "metadata": {
    "collapsed": false
   }
  },
  {
   "cell_type": "code",
   "execution_count": 199,
   "outputs": [
    {
     "name": "stdout",
     "output_type": "stream",
     "text": [
      "Graph with 1087562 nodes and 3083028 edges\n"
     ]
    }
   ],
   "source": [
    "undirected = nx.to_undirected(H)\n",
    "print(undirected)"
   ],
   "metadata": {
    "collapsed": false
   }
  },
  {
   "cell_type": "markdown",
   "source": [
    "Clusterização muito pequena! Faz sentido?"
   ],
   "metadata": {
    "collapsed": false
   }
  },
  {
   "cell_type": "code",
   "execution_count": 200,
   "outputs": [
    {
     "data": {
      "text/plain": "0.051"
     },
     "execution_count": 200,
     "metadata": {},
     "output_type": "execute_result"
    }
   ],
   "source": [
    "nx.algorithms.approximation.average_clustering(undirected)"
   ],
   "metadata": {
    "collapsed": false
   }
  },
  {
   "cell_type": "markdown",
   "source": [
    "## Comparação com rede aleatória Erdös-Rényi"
   ],
   "metadata": {
    "collapsed": false
   }
  },
  {
   "cell_type": "markdown",
   "source": [
    "Rede muito grade -> **equações**"
   ],
   "metadata": {
    "collapsed": false
   }
  },
  {
   "cell_type": "code",
   "execution_count": 201,
   "outputs": [
    {
     "data": {
      "text/plain": "(1088092, 2.6046825795723353e-06)"
     },
     "execution_count": 201,
     "metadata": {},
     "output_type": "execute_result"
    }
   ],
   "source": [
    "n = G.number_of_nodes()\n",
    "p = nx.density(G)\n",
    "n, p"
   ],
   "metadata": {
    "collapsed": false
   }
  },
  {
   "cell_type": "markdown",
   "source": [
    "### Clusterização"
   ],
   "metadata": {
    "collapsed": false
   }
  },
  {
   "cell_type": "markdown",
   "source": [
    "Cada aresta tem probabilidade `p` de existir, a chance de haver uma aresta entre vizinhos é `p`"
   ],
   "metadata": {
    "collapsed": false
   }
  },
  {
   "cell_type": "code",
   "execution_count": 202,
   "outputs": [
    {
     "data": {
      "text/plain": "2.6046825795723353e-06"
     },
     "execution_count": 202,
     "metadata": {},
     "output_type": "execute_result"
    }
   ],
   "source": [
    "random_graph_clustering = p\n",
    "random_graph_clustering"
   ],
   "metadata": {
    "collapsed": false
   }
  },
  {
   "cell_type": "markdown",
   "source": [
    "### Número de componentes"
   ],
   "metadata": {
    "collapsed": false
   }
  },
  {
   "cell_type": "markdown",
   "source": [
    "Componente gigante surge se grau médio é **maior do que 1**!"
   ],
   "metadata": {
    "collapsed": false
   }
  },
  {
   "cell_type": "code",
   "execution_count": 203,
   "outputs": [
    {
     "data": {
      "text/plain": "2.834131672689442"
     },
     "execution_count": 203,
     "metadata": {},
     "output_type": "execute_result"
    }
   ],
   "source": [
    "mean_degree = p * (n - 1)\n",
    "mean_degree"
   ],
   "metadata": {
    "collapsed": false
   }
  },
  {
   "cell_type": "markdown",
   "source": [
    "### Diâmetro"
   ],
   "metadata": {
    "collapsed": false
   }
  },
  {
   "cell_type": "markdown",
   "source": [
    "Em uma rede aleatória, pode ser estimado pelo **número de nós** e **grau médio**:"
   ],
   "metadata": {
    "collapsed": false
   }
  },
  {
   "cell_type": "code",
   "execution_count": 204,
   "outputs": [
    {
     "data": {
      "text/plain": "13.343055795874397"
     },
     "execution_count": 204,
     "metadata": {},
     "output_type": "execute_result"
    }
   ],
   "source": [
    "random_graph_diameter = np.log(n) / np.log(mean_degree)\n",
    "random_graph_diameter"
   ],
   "metadata": {
    "collapsed": false
   }
  },
  {
   "cell_type": "markdown",
   "source": [
    "### Distribuição dos graus"
   ],
   "metadata": {
    "collapsed": false
   }
  },
  {
   "cell_type": "markdown",
   "source": [
    "Graus seguem uma **Distribuição Binomial**:"
   ],
   "metadata": {
    "collapsed": false
   }
  },
  {
   "cell_type": "code",
   "execution_count": 205,
   "outputs": [
    {
     "data": {
      "text/plain": "<Figure size 640x480 with 1 Axes>",
      "image/png": "[encoded data removed]"
     },
     "metadata": {},
     "output_type": "display_data"
    }
   ],
   "source": [
    "degree_dist = scipy.stats.binom(n - 1, p)\n",
    "x = np.arange(10)\n",
    "y = degree_dist.pmf(x)\n",
    "plt.plot(x, y)\n",
    "plt.xlabel('Grau do nó')\n",
    "plt.ylabel('Probabilidade');"
   ],
   "metadata": {
    "collapsed": false
   }
  },
  {
   "cell_type": "code",
   "execution_count": 206,
   "outputs": [
    {
     "data": {
      "text/plain": "<Figure size 500x500 with 1 Axes>",
      "image/png": "[encoded data removed]"
     },
     "metadata": {},
     "output_type": "display_data"
    }
   ],
   "source": [
    "sns.displot(in_degree_list, stat='probability', bins=9)\n",
    "plt.plot(x, y);"
   ],
   "metadata": {
    "collapsed": false
   }
  },
  {
   "cell_type": "code",
   "execution_count": 207,
   "outputs": [
    {
     "data": {
      "text/plain": "<Figure size 640x480 with 1 Axes>",
      "image/png": "[encoded data removed]"
     },
     "metadata": {},
     "output_type": "display_data"
    }
   ],
   "source": [
    "rng_degree_list = [degree for node, degree in random_graph.degree]\n",
    "rng_degree_list = pd.Series(rng_degree_list)\n",
    "rng_degree_list.hist();"
   ],
   "metadata": {
    "collapsed": false
   }
  },
  {
   "cell_type": "markdown",
   "source": [
    "# 4. Redes sociais\n",
    "\n",
    "- Rede social do site [Slashdot](https://slashdot.org/)\n",
    "- Aresta *friend or foe*\n",
    "\n",
    "[Link para o dataset](https://snap.stanford.edu/data/soc-Slashdot0811.html)\n",
    "\n",
    "Referência:\n",
    "- J. Leskovec, K. Lang, A. Dasgupta, M. Mahoney. Community Structure in Large Networks: Natural Cluster Sizes and the Absence of Large Well-Defined Clusters. Internet Mathematics 6(1) 29--123, 2009."
   ],
   "metadata": {
    "collapsed": false
   }
  },
  {
   "cell_type": "code",
   "execution_count": 208,
   "outputs": [
    {
     "data": {
      "text/plain": "'soc-Slashdot0811.txt.gz'"
     },
     "execution_count": 208,
     "metadata": {},
     "output_type": "execute_result"
    }
   ],
   "source": [
    "url = 'https://snap.stanford.edu/data/soc-Slashdot0811.txt.gz'\n",
    "file_path = download_file(url)\n",
    "file_path"
   ],
   "metadata": {
    "collapsed": false
   }
  },
  {
   "cell_type": "code",
   "execution_count": 209,
   "outputs": [
    {
     "name": "stdout",
     "output_type": "stream",
     "text": [
      "DiGraph with 77360 nodes and 905468 edges\n"
     ]
    }
   ],
   "source": [
    "G = nx.read_edgelist(file_path, create_using=nx.DiGraph)\n",
    "print(G)"
   ],
   "metadata": {
    "collapsed": false
   }
  },
  {
   "cell_type": "markdown",
   "source": [
    "## Densidade da rede"
   ],
   "metadata": {
    "collapsed": false
   }
  },
  {
   "cell_type": "markdown",
   "source": [
    "Muito parecida com a densidade da Internet!"
   ],
   "metadata": {
    "collapsed": false
   }
  },
  {
   "cell_type": "code",
   "execution_count": 210,
   "outputs": [
    {
     "data": {
      "text/plain": "0.0001513023935343928"
     },
     "execution_count": 210,
     "metadata": {},
     "output_type": "execute_result"
    }
   ],
   "source": [
    "nx.density(G)"
   ],
   "metadata": {
    "collapsed": false
   }
  },
  {
   "cell_type": "markdown",
   "source": [
    "## Conectividade"
   ],
   "metadata": {
    "collapsed": false
   }
  },
  {
   "cell_type": "markdown",
   "source": [
    "Fortemente conexo -> caminho de **ida e volta**"
   ],
   "metadata": {
    "collapsed": false
   }
  },
  {
   "cell_type": "code",
   "execution_count": 211,
   "outputs": [
    {
     "data": {
      "text/plain": "False"
     },
     "execution_count": 211,
     "metadata": {},
     "output_type": "execute_result"
    }
   ],
   "source": [
    "nx.is_strongly_connected(G)"
   ],
   "metadata": {
    "collapsed": false
   }
  },
  {
   "cell_type": "markdown",
   "source": [
    "Muitas **componentes conexas fortes**!"
   ],
   "metadata": {
    "collapsed": false
   }
  },
  {
   "cell_type": "code",
   "execution_count": 212,
   "outputs": [
    {
     "data": {
      "text/plain": "6724"
     },
     "execution_count": 212,
     "metadata": {},
     "output_type": "execute_result"
    }
   ],
   "source": [
    "nx.number_strongly_connected_components(G)"
   ],
   "metadata": {
    "collapsed": false
   }
  },
  {
   "cell_type": "markdown",
   "source": [
    "Separando a **maior componente conexa forte**:"
   ],
   "metadata": {
    "collapsed": false
   }
  },
  {
   "cell_type": "code",
   "execution_count": 213,
   "outputs": [
    {
     "name": "stdout",
     "output_type": "stream",
     "text": [
      "DiGraph with 70355 nodes and 888662 edges\n"
     ]
    }
   ],
   "source": [
    "components = nx.strongly_connected_components(G)\n",
    "nodes = max(components, key=len)\n",
    "H = G.subgraph(nodes)\n",
    "print(H)"
   ],
   "metadata": {
    "collapsed": false
   }
  },
  {
   "cell_type": "markdown",
   "source": [
    "Percentual de nós e arestas na **maior componente**:"
   ],
   "metadata": {
    "collapsed": false
   }
  },
  {
   "cell_type": "code",
   "execution_count": 214,
   "outputs": [
    {
     "data": {
      "text/plain": "0.9094493278179938"
     },
     "execution_count": 214,
     "metadata": {},
     "output_type": "execute_result"
    }
   ],
   "source": [
    "H.number_of_nodes() / G.number_of_nodes()"
   ],
   "metadata": {
    "collapsed": false
   }
  },
  {
   "cell_type": "code",
   "execution_count": 215,
   "outputs": [
    {
     "data": {
      "text/plain": "0.9814394324261045"
     },
     "execution_count": 215,
     "metadata": {},
     "output_type": "execute_result"
    }
   ],
   "source": [
    "H.number_of_edges() / G.number_of_edges()"
   ],
   "metadata": {
    "collapsed": false
   }
  },
  {
   "cell_type": "markdown",
   "source": [
    "Menor conectividade quando comparada às outras redes"
   ],
   "metadata": {
    "collapsed": false
   }
  },
  {
   "cell_type": "markdown",
   "source": [
    "## Distribuição dos graus"
   ],
   "metadata": {
    "collapsed": false
   }
  },
  {
   "cell_type": "markdown",
   "source": [
    "### Histograma"
   ],
   "metadata": {
    "collapsed": false
   }
  },
  {
   "cell_type": "markdown",
   "source": [
    "Grau de entrada:"
   ],
   "metadata": {
    "collapsed": false
   }
  },
  {
   "cell_type": "code",
   "execution_count": 216,
   "outputs": [
    {
     "data": {
      "text/plain": "<Figure size 640x480 with 1 Axes>",
      "image/png": "[encoded data removed]"
     },
     "metadata": {},
     "output_type": "display_data"
    }
   ],
   "source": [
    "in_degree_list = [degree for node, degree in G.in_degree]\n",
    "in_degree_list = pd.Series(in_degree_list)\n",
    "in_degree_list.hist();"
   ],
   "metadata": {
    "collapsed": false
   }
  },
  {
   "cell_type": "code",
   "execution_count": 217,
   "outputs": [
    {
     "data": {
      "text/plain": "count    77360.000000\nmean        11.704602\nstd         37.205199\nmin          1.000000\n25%          2.000000\n50%          3.000000\n75%          8.000000\nmax       2540.000000\ndtype: float64"
     },
     "execution_count": 217,
     "metadata": {},
     "output_type": "execute_result"
    }
   ],
   "source": [
    "in_degree_list.describe()"
   ],
   "metadata": {
    "collapsed": false
   }
  },
  {
   "cell_type": "markdown",
   "source": [
    "Grau de saída:"
   ],
   "metadata": {
    "collapsed": false
   }
  },
  {
   "cell_type": "code",
   "execution_count": 218,
   "outputs": [
    {
     "data": {
      "text/plain": "<Figure size 640x480 with 1 Axes>",
      "image/png": "[encoded data removed]"
     },
     "metadata": {},
     "output_type": "display_data"
    }
   ],
   "source": [
    "out_degree_list = [degree for node, degree in G.out_degree]\n",
    "out_degree_list = pd.Series(out_degree_list)\n",
    "out_degree_list.hist();"
   ],
   "metadata": {
    "collapsed": false
   }
  },
  {
   "cell_type": "code",
   "execution_count": 219,
   "outputs": [
    {
     "data": {
      "text/plain": "count    77360.000000\nmean        11.704602\nstd         36.844128\nmin          0.000000\n25%          2.000000\n50%          3.000000\n75%          7.000000\nmax       2508.000000\ndtype: float64"
     },
     "execution_count": 219,
     "metadata": {},
     "output_type": "execute_result"
    }
   ],
   "source": [
    "out_degree_list.describe()"
   ],
   "metadata": {
    "collapsed": false
   }
  },
  {
   "cell_type": "markdown",
   "source": [
    "Graus de entrada e saída são parecidos"
   ],
   "metadata": {
    "collapsed": false
   }
  },
  {
   "cell_type": "markdown",
   "source": [
    "### Gráfico de *ranqueamento*"
   ],
   "metadata": {
    "collapsed": false
   }
  },
  {
   "cell_type": "markdown",
   "source": [
    "Será que segue Lei de Potência?"
   ],
   "metadata": {
    "collapsed": false
   }
  },
  {
   "cell_type": "code",
   "execution_count": 220,
   "outputs": [
    {
     "data": {
      "text/plain": "<Figure size 640x480 with 1 Axes>",
      "image/png": "[encoded data removed]"
     },
     "metadata": {},
     "output_type": "display_data"
    }
   ],
   "source": [
    "y = in_degree_list.sort_values(ascending=False)\n",
    "x = range(len(y))\n",
    "plt.plot(x, y)\n",
    "plt.loglog()\n",
    "plt.xlabel('Posição (rank)')\n",
    "plt.ylabel('Grau do nó');"
   ],
   "metadata": {
    "collapsed": false
   }
  },
  {
   "cell_type": "markdown",
   "source": [
    "## Distâncias"
   ],
   "metadata": {
    "collapsed": false
   }
  },
  {
   "cell_type": "markdown",
   "source": [
    "Limite inferior para o diâmetro:"
   ],
   "metadata": {
    "collapsed": false
   }
  },
  {
   "cell_type": "code",
   "execution_count": 221,
   "outputs": [
    {
     "data": {
      "text/plain": "12"
     },
     "execution_count": 221,
     "metadata": {},
     "output_type": "execute_result"
    }
   ],
   "source": [
    "nx.algorithms.approximation.diameter(H)"
   ],
   "metadata": {
    "collapsed": false
   }
  },
  {
   "cell_type": "code",
   "execution_count": 222,
   "outputs": [
    {
     "data": {
      "text/plain": "count    70355.00000\nmean         3.09435\nstd          0.66968\nmin          0.00000\n25%          3.00000\n50%          3.00000\n75%          3.00000\nmax          7.00000\ndtype: float64"
     },
     "execution_count": 222,
     "metadata": {},
     "output_type": "execute_result"
    }
   ],
   "source": [
    "distances = nx.shortest_path_length(H, '0')\n",
    "distances = pd.Series(distances)\n",
    "distances.describe()"
   ],
   "metadata": {
    "collapsed": false
   }
  },
  {
   "cell_type": "markdown",
   "source": [
    "## Clusterização"
   ],
   "metadata": {
    "collapsed": false
   }
  },
  {
   "cell_type": "markdown",
   "source": [
    "Vamos criar uma cópia **não direcionada** da rede:"
   ],
   "metadata": {
    "collapsed": false
   }
  },
  {
   "cell_type": "code",
   "execution_count": 223,
   "outputs": [
    {
     "name": "stdout",
     "output_type": "stream",
     "text": [
      "Graph with 70355 nodes and 923838 edges\n"
     ]
    }
   ],
   "source": [
    "undirected = nx.to_undirected(H)\n",
    "print(undirected)"
   ],
   "metadata": {
    "collapsed": false
   }
  },
  {
   "cell_type": "markdown",
   "source": [
    "Como em muitas redes sociais, clusterização é alta!"
   ],
   "metadata": {
    "collapsed": false
   }
  },
  {
   "cell_type": "code",
   "execution_count": 224,
   "outputs": [
    {
     "data": {
      "text/plain": "0.598"
     },
     "execution_count": 224,
     "metadata": {},
     "output_type": "execute_result"
    }
   ],
   "source": [
    "nx.algorithms.approximation.average_clustering(undirected)"
   ],
   "metadata": {
    "collapsed": false
   }
  },
  {
   "cell_type": "markdown",
   "source": [
    "## Comparação com rede aleatória Erdös-Rényi"
   ],
   "metadata": {
    "collapsed": false
   }
  },
  {
   "cell_type": "markdown",
   "source": [
    "Vamos aproveitar as equações!"
   ],
   "metadata": {
    "collapsed": false
   }
  },
  {
   "cell_type": "code",
   "execution_count": 225,
   "outputs": [
    {
     "data": {
      "text/plain": "(77360, 0.0001513023935343928)"
     },
     "execution_count": 225,
     "metadata": {},
     "output_type": "execute_result"
    }
   ],
   "source": [
    "n = G.number_of_nodes()\n",
    "p = nx.density(G)\n",
    "n, p"
   ],
   "metadata": {
    "collapsed": false
   }
  },
  {
   "cell_type": "markdown",
   "source": [
    "### Clusterização"
   ],
   "metadata": {
    "collapsed": false
   }
  },
  {
   "cell_type": "markdown",
   "source": [
    "Certamente não é uma rede aleatória!"
   ],
   "metadata": {
    "collapsed": false
   }
  },
  {
   "cell_type": "code",
   "execution_count": 226,
   "outputs": [
    {
     "data": {
      "text/plain": "0.0001513023935343928"
     },
     "execution_count": 226,
     "metadata": {},
     "output_type": "execute_result"
    }
   ],
   "source": [
    "random_graph_clustering = p\n",
    "random_graph_clustering"
   ],
   "metadata": {
    "collapsed": false
   }
  },
  {
   "cell_type": "markdown",
   "source": [
    "### Número de componentes"
   ],
   "metadata": {
    "collapsed": false
   }
  },
  {
   "cell_type": "markdown",
   "source": [
    "Com grau médio > 1, tendência de formar uma **componente gigante**"
   ],
   "metadata": {
    "collapsed": false
   }
  },
  {
   "cell_type": "code",
   "execution_count": 227,
   "outputs": [
    {
     "data": {
      "text/plain": "11.704601861427093"
     },
     "execution_count": 227,
     "metadata": {},
     "output_type": "execute_result"
    }
   ],
   "source": [
    "mean_degree = p * (n - 1)\n",
    "mean_degree"
   ],
   "metadata": {
    "collapsed": false
   }
  },
  {
   "cell_type": "markdown",
   "source": [
    "### Diâmetro"
   ],
   "metadata": {
    "collapsed": false
   }
  },
  {
   "cell_type": "markdown",
   "source": [
    "Na rede aleatória, esperamos um diâmetro menor:"
   ],
   "metadata": {
    "collapsed": false
   }
  },
  {
   "cell_type": "code",
   "execution_count": 228,
   "outputs": [
    {
     "data": {
      "text/plain": "4.575734593499139"
     },
     "execution_count": 228,
     "metadata": {},
     "output_type": "execute_result"
    }
   ],
   "source": [
    "random_graph_diameter = np.log(n) / np.log(mean_degree)\n",
    "random_graph_diameter"
   ],
   "metadata": {
    "collapsed": false
   }
  },
  {
   "cell_type": "markdown",
   "source": [
    "### Distribuição dos graus"
   ],
   "metadata": {
    "collapsed": false
   }
  },
  {
   "cell_type": "markdown",
   "source": [
    "Graus seguem uma **Distribuição Binomial**:"
   ],
   "metadata": {
    "collapsed": false
   }
  },
  {
   "cell_type": "code",
   "execution_count": 229,
   "outputs": [
    {
     "data": {
      "text/plain": "<Figure size 640x480 with 1 Axes>",
      "image/png": "[encoded data removed]"
     },
     "metadata": {},
     "output_type": "display_data"
    }
   ],
   "source": [
    "degree_dist = scipy.stats.binom(n - 1, p)\n",
    "x = np.arange(20)\n",
    "y = degree_dist.pmf(x)\n",
    "plt.plot(x, y)\n",
    "plt.xlabel('Grau do nó')\n",
    "plt.ylabel('Probabilidade');"
   ],
   "metadata": {
    "collapsed": false
   }
  },
  {
   "cell_type": "code",
   "execution_count": 230,
   "outputs": [
    {
     "data": {
      "text/plain": "<Figure size 640x480 with 1 Axes>",
      "image/png": "[encoded data removed]"
     },
     "metadata": {},
     "output_type": "display_data"
    }
   ],
   "source": [
    "in_degree_list.hist();"
   ],
   "metadata": {
    "collapsed": false
   }
  }
 ],
 "metadata": {
  "kernelspec": {
   "display_name": "Python 3",
   "language": "python",
   "name": "python3"
  },
  "language_info": {
   "codemirror_mode": {
    "name": "ipython",
    "version": 2
   },
   "file_extension": ".py",
   "mimetype": "text/x-python",
   "name": "python",
   "nbconvert_exporter": "python",
   "pygments_lexer": "ipython2",
   "version": "2.7.6"
  }
 },
 "nbformat": 4,
 "nbformat_minor": 0
}
