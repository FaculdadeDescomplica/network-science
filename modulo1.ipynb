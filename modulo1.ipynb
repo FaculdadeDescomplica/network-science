{
 "cells": [
  {
   "cell_type": "markdown",
   "source": [
    "# 4. Apresentação NetworkX"
   ],
   "metadata": {
    "collapsed": false
   }
  },
  {
   "cell_type": "code",
   "execution_count": 5,
   "metadata": {
    "collapsed": true
   },
   "outputs": [
    {
     "name": "stdout",
     "output_type": "stream",
     "text": [
      "^C\n",
      "Note: you may need to restart the kernel to use updated packages.\n"
     ]
    }
   ],
   "source": [
    "pip install networkx matplotlib scipy numpy powerlaw pandas seaborn requests"
   ]
  },
  {
   "cell_type": "code",
   "execution_count": 8,
   "outputs": [],
   "source": [
    "import networkx as nx"
   ],
   "metadata": {
    "collapsed": false
   }
  },
  {
   "cell_type": "code",
   "execution_count": 9,
   "outputs": [
    {
     "data": {
      "text/plain": "'3.0'"
     },
     "execution_count": 9,
     "metadata": {},
     "output_type": "execute_result"
    }
   ],
   "source": [
    "nx.__version__"
   ],
   "metadata": {
    "collapsed": false
   }
  },
  {
   "cell_type": "markdown",
   "source": [
    "# 5. Criação e leitura de redes com NetworkX"
   ],
   "metadata": {
    "collapsed": false
   }
  },
  {
   "cell_type": "code",
   "execution_count": 10,
   "outputs": [
    {
     "name": "stdout",
     "output_type": "stream",
     "text": [
      "Graph with 0 nodes and 0 edges\n"
     ]
    }
   ],
   "source": [
    "G = nx.Graph()\n",
    "print(G)"
   ],
   "metadata": {
    "collapsed": false
   }
  },
  {
   "cell_type": "markdown",
   "source": [
    "## Adicionando nós (vértices)"
   ],
   "metadata": {
    "collapsed": false
   }
  },
  {
   "cell_type": "code",
   "execution_count": 11,
   "outputs": [
    {
     "name": "stdout",
     "output_type": "stream",
     "text": [
      "Graph with 1 nodes and 0 edges\n"
     ]
    }
   ],
   "source": [
    "G.add_node(1)\n",
    "print(G)"
   ],
   "metadata": {
    "collapsed": false
   }
  },
  {
   "cell_type": "code",
   "execution_count": 12,
   "outputs": [
    {
     "name": "stdout",
     "output_type": "stream",
     "text": [
      "Graph with 3 nodes and 0 edges\n"
     ]
    }
   ],
   "source": [
    "G.add_nodes_from([2, 3])\n",
    "print(G)"
   ],
   "metadata": {
    "collapsed": false
   }
  },
  {
   "cell_type": "code",
   "execution_count": 13,
   "outputs": [
    {
     "name": "stdout",
     "output_type": "stream",
     "text": [
      "Graph with 10 nodes and 0 edges\n"
     ]
    }
   ],
   "source": [
    "G = nx.Graph()\n",
    "G.add_nodes_from(range(10))\n",
    "print(G)"
   ],
   "metadata": {
    "collapsed": false
   }
  },
  {
   "cell_type": "markdown",
   "source": [
    "## Adicionando arestas (relacionamentos)"
   ],
   "metadata": {
    "collapsed": false
   }
  },
  {
   "cell_type": "code",
   "execution_count": 14,
   "outputs": [
    {
     "name": "stdout",
     "output_type": "stream",
     "text": [
      "Graph with 10 nodes and 1 edges\n"
     ]
    }
   ],
   "source": [
    "G.add_edge(0, 1)\n",
    "print(G)"
   ],
   "metadata": {
    "collapsed": false
   }
  },
  {
   "cell_type": "code",
   "execution_count": 15,
   "outputs": [
    {
     "name": "stdout",
     "output_type": "stream",
     "text": [
      "Graph with 10 nodes and 4 edges\n"
     ]
    }
   ],
   "source": [
    "G.add_edges_from([\n",
    "    (1, 2),\n",
    "    (1, 9),\n",
    "    (2, 3),\n",
    "])\n",
    "print(G)"
   ],
   "metadata": {
    "collapsed": false
   }
  },
  {
   "cell_type": "markdown",
   "source": [
    "## Removendo elementos"
   ],
   "metadata": {
    "collapsed": false
   }
  },
  {
   "cell_type": "code",
   "execution_count": 16,
   "outputs": [
    {
     "name": "stdout",
     "output_type": "stream",
     "text": [
      "Graph with 0 nodes and 0 edges\n"
     ]
    }
   ],
   "source": [
    "G.clear()\n",
    "print(G)"
   ],
   "metadata": {
    "collapsed": false
   }
  },
  {
   "cell_type": "code",
   "execution_count": 17,
   "outputs": [
    {
     "name": "stdout",
     "output_type": "stream",
     "text": [
      "Graph with 10 nodes and 3 edges\n"
     ]
    }
   ],
   "source": [
    "G.add_nodes_from(range(10))\n",
    "\n",
    "G.add_edges_from([\n",
    "    (1, 2),\n",
    "    (1, 9),\n",
    "    (2, 3),\n",
    "])\n",
    "print(G)"
   ],
   "metadata": {
    "collapsed": false
   }
  },
  {
   "cell_type": "code",
   "execution_count": 18,
   "outputs": [
    {
     "name": "stdout",
     "output_type": "stream",
     "text": [
      "Graph with 9 nodes and 3 edges\n"
     ]
    }
   ],
   "source": [
    "G.remove_node(5)\n",
    "print(G)"
   ],
   "metadata": {
    "collapsed": false
   }
  },
  {
   "cell_type": "code",
   "execution_count": 19,
   "outputs": [
    {
     "name": "stdout",
     "output_type": "stream",
     "text": [
      "Graph with 9 nodes and 2 edges\n"
     ]
    }
   ],
   "source": [
    "G.remove_edge(1, 2)\n",
    "print(G)"
   ],
   "metadata": {
    "collapsed": false
   }
  },
  {
   "cell_type": "code",
   "execution_count": 20,
   "outputs": [
    {
     "ename": "NetworkXError",
     "evalue": "The edge 1-4 is not in the graph",
     "output_type": "error",
     "traceback": [
      "\u001B[1;31m---------------------------------------------------------------------------\u001B[0m",
      "\u001B[1;31mKeyError\u001B[0m                                  Traceback (most recent call last)",
      "File \u001B[1;32m~\\venv-descomplica\\lib\\site-packages\\networkx\\classes\\graph.py:1118\u001B[0m, in \u001B[0;36mGraph.remove_edge\u001B[1;34m(self, u, v)\u001B[0m\n\u001B[0;32m   1117\u001B[0m \u001B[38;5;28;01mtry\u001B[39;00m:\n\u001B[1;32m-> 1118\u001B[0m     \u001B[38;5;28;01mdel\u001B[39;00m \u001B[38;5;28mself\u001B[39m\u001B[38;5;241m.\u001B[39m_adj[u][v]\n\u001B[0;32m   1119\u001B[0m     \u001B[38;5;28;01mif\u001B[39;00m u \u001B[38;5;241m!=\u001B[39m v:  \u001B[38;5;66;03m# self-loop needs only one entry removed\u001B[39;00m\n",
      "\u001B[1;31mKeyError\u001B[0m: 4",
      "\nThe above exception was the direct cause of the following exception:\n",
      "\u001B[1;31mNetworkXError\u001B[0m                             Traceback (most recent call last)",
      "Cell \u001B[1;32mIn[20], line 1\u001B[0m\n\u001B[1;32m----> 1\u001B[0m \u001B[43mG\u001B[49m\u001B[38;5;241;43m.\u001B[39;49m\u001B[43mremove_edge\u001B[49m\u001B[43m(\u001B[49m\u001B[38;5;241;43m1\u001B[39;49m\u001B[43m,\u001B[49m\u001B[43m \u001B[49m\u001B[38;5;241;43m4\u001B[39;49m\u001B[43m)\u001B[49m\n\u001B[0;32m      2\u001B[0m \u001B[38;5;28mprint\u001B[39m(G)\n",
      "File \u001B[1;32m~\\venv-descomplica\\lib\\site-packages\\networkx\\classes\\graph.py:1122\u001B[0m, in \u001B[0;36mGraph.remove_edge\u001B[1;34m(self, u, v)\u001B[0m\n\u001B[0;32m   1120\u001B[0m         \u001B[38;5;28;01mdel\u001B[39;00m \u001B[38;5;28mself\u001B[39m\u001B[38;5;241m.\u001B[39m_adj[v][u]\n\u001B[0;32m   1121\u001B[0m \u001B[38;5;28;01mexcept\u001B[39;00m \u001B[38;5;167;01mKeyError\u001B[39;00m \u001B[38;5;28;01mas\u001B[39;00m err:\n\u001B[1;32m-> 1122\u001B[0m     \u001B[38;5;28;01mraise\u001B[39;00m NetworkXError(\u001B[38;5;124mf\u001B[39m\u001B[38;5;124m\"\u001B[39m\u001B[38;5;124mThe edge \u001B[39m\u001B[38;5;132;01m{\u001B[39;00mu\u001B[38;5;132;01m}\u001B[39;00m\u001B[38;5;124m-\u001B[39m\u001B[38;5;132;01m{\u001B[39;00mv\u001B[38;5;132;01m}\u001B[39;00m\u001B[38;5;124m is not in the graph\u001B[39m\u001B[38;5;124m\"\u001B[39m) \u001B[38;5;28;01mfrom\u001B[39;00m \u001B[38;5;21;01merr\u001B[39;00m\n",
      "\u001B[1;31mNetworkXError\u001B[0m: The edge 1-4 is not in the graph"
     ]
    }
   ],
   "source": [
    "G.remove_edge(1, 4)\n",
    "print(G)"
   ],
   "metadata": {
    "collapsed": false
   }
  },
  {
   "cell_type": "markdown",
   "source": [
    "## Usando o construtor\n",
    "### Lista de arestas"
   ],
   "metadata": {
    "collapsed": false
   }
  },
  {
   "cell_type": "code",
   "execution_count": 21,
   "outputs": [
    {
     "name": "stdout",
     "output_type": "stream",
     "text": [
      "Graph with 4 nodes and 3 edges\n"
     ]
    }
   ],
   "source": [
    "edges = [\n",
    "    ('A', 'B'),\n",
    "    ('A', 'C'),\n",
    "    ('B', 'D'),\n",
    "]\n",
    "H = nx.Graph(edges)\n",
    "print(H)"
   ],
   "metadata": {
    "collapsed": false
   }
  },
  {
   "cell_type": "markdown",
   "source": [
    "### Adjacências"
   ],
   "metadata": {
    "collapsed": false
   }
  },
  {
   "cell_type": "code",
   "execution_count": 22,
   "outputs": [
    {
     "name": "stdout",
     "output_type": "stream",
     "text": [
      "Graph with 4 nodes and 3 edges\n"
     ]
    }
   ],
   "source": [
    "adjacency_dict = {\n",
    "    'A': ['B', 'C'],\n",
    "    'B': ['D'],\n",
    "}\n",
    "H = nx.Graph(adjacency_dict)\n",
    "print(H)"
   ],
   "metadata": {
    "collapsed": false
   }
  },
  {
   "cell_type": "markdown",
   "source": [
    "### Rede direcionada"
   ],
   "metadata": {
    "collapsed": false
   }
  },
  {
   "cell_type": "code",
   "execution_count": 23,
   "outputs": [
    {
     "name": "stdout",
     "output_type": "stream",
     "text": [
      "DiGraph with 4 nodes and 3 edges\n"
     ]
    }
   ],
   "source": [
    "adjacency_dict = {\n",
    "    'A': ['B', 'C'],\n",
    "    'B': ['D'],\n",
    "}\n",
    "D = nx.DiGraph(adjacency_dict)\n",
    "print(D)"
   ],
   "metadata": {
    "collapsed": false
   }
  },
  {
   "cell_type": "markdown",
   "source": [
    "## Leitura de arquivo"
   ],
   "metadata": {
    "collapsed": false
   }
  },
  {
   "cell_type": "code",
   "execution_count": 24,
   "outputs": [
    {
     "name": "stdout",
     "output_type": "stream",
     "text": [
      "A 2\n",
      "B\n",
      "C\n",
      "B 1\n",
      "D\n",
      "\n"
     ]
    }
   ],
   "source": [
    "with open('rede1.multiline-adjlist') as f:\n",
    "    print(f.read())"
   ],
   "metadata": {
    "collapsed": false
   }
  },
  {
   "cell_type": "code",
   "execution_count": 25,
   "outputs": [
    {
     "name": "stdout",
     "output_type": "stream",
     "text": [
      "Graph with 4 nodes and 3 edges\n"
     ]
    }
   ],
   "source": [
    "H = nx.read_multiline_adjlist('rede1.multiline-adjlist')\n",
    "print(H)"
   ],
   "metadata": {
    "collapsed": false
   }
  },
  {
   "cell_type": "code",
   "execution_count": 26,
   "outputs": [
    {
     "name": "stdout",
     "output_type": "stream",
     "text": [
      "DiGraph with 4 nodes and 3 edges\n"
     ]
    }
   ],
   "source": [
    "D = nx.read_multiline_adjlist('rede1.multiline-adjlist', create_using=nx.DiGraph)\n",
    "print(D)"
   ],
   "metadata": {
    "collapsed": false
   }
  },
  {
   "cell_type": "markdown",
   "source": [
    "# 6. Visualização de redes com NetworkX"
   ],
   "metadata": {
    "collapsed": false
   }
  },
  {
   "cell_type": "code",
   "execution_count": 27,
   "outputs": [],
   "source": [
    "import matplotlib.pyplot as plt"
   ],
   "metadata": {
    "collapsed": false
   }
  },
  {
   "cell_type": "code",
   "execution_count": 28,
   "outputs": [
    {
     "name": "stdout",
     "output_type": "stream",
     "text": [
      "Graph with 4 nodes and 3 edges\n"
     ]
    }
   ],
   "source": [
    "G = nx.read_multiline_adjlist('rede1.multiline-adjlist')\n",
    "print(G)"
   ],
   "metadata": {
    "collapsed": false
   }
  },
  {
   "cell_type": "code",
   "execution_count": 29,
   "outputs": [
    {
     "data": {
      "text/plain": "<Figure size 640x480 with 1 Axes>",
      "image/png": "[encoded data removed]"
     },
     "metadata": {},
     "output_type": "display_data"
    }
   ],
   "source": [
    "nx.draw_networkx(G)"
   ],
   "metadata": {
    "collapsed": false
   }
  },
  {
   "cell_type": "code",
   "execution_count": 30,
   "outputs": [
    {
     "data": {
      "text/plain": "<Figure size 640x480 with 1 Axes>",
      "image/png": "[encoded data removed]"
     },
     "metadata": {},
     "output_type": "display_data"
    }
   ],
   "source": [
    "nx.draw_networkx(G, font_weight='bold', style='--', node_color='red')"
   ],
   "metadata": {
    "collapsed": false
   }
  },
  {
   "cell_type": "markdown",
   "source": [
    "Para ver as opções disponíveis:"
   ],
   "metadata": {
    "collapsed": false
   }
  },
  {
   "cell_type": "code",
   "execution_count": 31,
   "outputs": [
    {
     "name": "stdout",
     "output_type": "stream",
     "text": [
      "Help on function draw_networkx in module networkx.drawing.nx_pylab:\n",
      "\n",
      "draw_networkx(G, pos=None, arrows=None, with_labels=True, **kwds)\n",
      "    Draw the graph G using Matplotlib.\n",
      "    \n",
      "    Draw the graph with Matplotlib with options for node positions,\n",
      "    labeling, titles, and many other drawing features.\n",
      "    See draw() for simple drawing without labels or axes.\n",
      "    \n",
      "    Parameters\n",
      "    ----------\n",
      "    G : graph\n",
      "        A networkx graph\n",
      "    \n",
      "    pos : dictionary, optional\n",
      "        A dictionary with nodes as keys and positions as values.\n",
      "        If not specified a spring layout positioning will be computed.\n",
      "        See :py:mod:`networkx.drawing.layout` for functions that\n",
      "        compute node positions.\n",
      "    \n",
      "    arrows : bool or None, optional (default=None)\n",
      "        If `None`, directed graphs draw arrowheads with\n",
      "        `~matplotlib.patches.FancyArrowPatch`, while undirected graphs draw edges\n",
      "        via `~matplotlib.collections.LineCollection` for speed.\n",
      "        If `True`, draw arrowheads with FancyArrowPatches (bendable and stylish).\n",
      "        If `False`, draw edges using LineCollection (linear and fast).\n",
      "        For directed graphs, if True draw arrowheads.\n",
      "        Note: Arrows will be the same color as edges.\n",
      "    \n",
      "    arrowstyle : str (default='-\\|>' for directed graphs)\n",
      "        For directed graphs, choose the style of the arrowsheads.\n",
      "        For undirected graphs default to '-'\n",
      "    \n",
      "        See `matplotlib.patches.ArrowStyle` for more options.\n",
      "    \n",
      "    arrowsize : int or list (default=10)\n",
      "        For directed graphs, choose the size of the arrow head's length and\n",
      "        width. A list of values can be passed in to assign a different size for arrow head's length and width.\n",
      "        See `matplotlib.patches.FancyArrowPatch` for attribute `mutation_scale`\n",
      "        for more info.\n",
      "    \n",
      "    with_labels :  bool (default=True)\n",
      "        Set to True to draw labels on the nodes.\n",
      "    \n",
      "    ax : Matplotlib Axes object, optional\n",
      "        Draw the graph in the specified Matplotlib axes.\n",
      "    \n",
      "    nodelist : list (default=list(G))\n",
      "        Draw only specified nodes\n",
      "    \n",
      "    edgelist : list (default=list(G.edges()))\n",
      "        Draw only specified edges\n",
      "    \n",
      "    node_size : scalar or array (default=300)\n",
      "        Size of nodes.  If an array is specified it must be the\n",
      "        same length as nodelist.\n",
      "    \n",
      "    node_color : color or array of colors (default='#1f78b4')\n",
      "        Node color. Can be a single color or a sequence of colors with the same\n",
      "        length as nodelist. Color can be string or rgb (or rgba) tuple of\n",
      "        floats from 0-1. If numeric values are specified they will be\n",
      "        mapped to colors using the cmap and vmin,vmax parameters. See\n",
      "        matplotlib.scatter for more details.\n",
      "    \n",
      "    node_shape :  string (default='o')\n",
      "        The shape of the node.  Specification is as matplotlib.scatter\n",
      "        marker, one of 'so^>v<dph8'.\n",
      "    \n",
      "    alpha : float or None (default=None)\n",
      "        The node and edge transparency\n",
      "    \n",
      "    cmap : Matplotlib colormap, optional\n",
      "        Colormap for mapping intensities of nodes\n",
      "    \n",
      "    vmin,vmax : float, optional\n",
      "        Minimum and maximum for node colormap scaling\n",
      "    \n",
      "    linewidths : scalar or sequence (default=1.0)\n",
      "        Line width of symbol border\n",
      "    \n",
      "    width : float or array of floats (default=1.0)\n",
      "        Line width of edges\n",
      "    \n",
      "    edge_color : color or array of colors (default='k')\n",
      "        Edge color. Can be a single color or a sequence of colors with the same\n",
      "        length as edgelist. Color can be string or rgb (or rgba) tuple of\n",
      "        floats from 0-1. If numeric values are specified they will be\n",
      "        mapped to colors using the edge_cmap and edge_vmin,edge_vmax parameters.\n",
      "    \n",
      "    edge_cmap : Matplotlib colormap, optional\n",
      "        Colormap for mapping intensities of edges\n",
      "    \n",
      "    edge_vmin,edge_vmax : floats, optional\n",
      "        Minimum and maximum for edge colormap scaling\n",
      "    \n",
      "    style : string (default=solid line)\n",
      "        Edge line style e.g.: '-', '--', '-.', ':'\n",
      "        or words like 'solid' or 'dashed'.\n",
      "        (See `matplotlib.patches.FancyArrowPatch`: `linestyle`)\n",
      "    \n",
      "    labels : dictionary (default=None)\n",
      "        Node labels in a dictionary of text labels keyed by node\n",
      "    \n",
      "    font_size : int (default=12 for nodes, 10 for edges)\n",
      "        Font size for text labels\n",
      "    \n",
      "    font_color : string (default='k' black)\n",
      "        Font color string\n",
      "    \n",
      "    font_weight : string (default='normal')\n",
      "        Font weight\n",
      "    \n",
      "    font_family : string (default='sans-serif')\n",
      "        Font family\n",
      "    \n",
      "    label : string, optional\n",
      "        Label for graph legend\n",
      "    \n",
      "    kwds : optional keywords\n",
      "        See networkx.draw_networkx_nodes(), networkx.draw_networkx_edges(), and\n",
      "        networkx.draw_networkx_labels() for a description of optional keywords.\n",
      "    \n",
      "    Notes\n",
      "    -----\n",
      "    For directed graphs, arrows  are drawn at the head end.  Arrows can be\n",
      "    turned off with keyword arrows=False.\n",
      "    \n",
      "    Examples\n",
      "    --------\n",
      "    >>> G = nx.dodecahedral_graph()\n",
      "    >>> nx.draw(G)\n",
      "    >>> nx.draw(G, pos=nx.spring_layout(G))  # use spring layout\n",
      "    \n",
      "    >>> import matplotlib.pyplot as plt\n",
      "    >>> limits = plt.axis(\"off\")  # turn off axis\n",
      "    \n",
      "    Also see the NetworkX drawing examples at\n",
      "    https://networkx.org/documentation/latest/auto_examples/index.html\n",
      "    \n",
      "    See Also\n",
      "    --------\n",
      "    draw\n",
      "    draw_networkx_nodes\n",
      "    draw_networkx_edges\n",
      "    draw_networkx_labels\n",
      "    draw_networkx_edge_labels\n",
      "\n"
     ]
    }
   ],
   "source": [
    "help(nx.draw_networkx)"
   ],
   "metadata": {
    "collapsed": false
   }
  },
  {
   "cell_type": "markdown",
   "source": [
    "## Visualizando rede direcionada"
   ],
   "metadata": {
    "collapsed": false
   }
  },
  {
   "cell_type": "code",
   "execution_count": 32,
   "outputs": [
    {
     "name": "stdout",
     "output_type": "stream",
     "text": [
      "DiGraph with 4 nodes and 3 edges\n"
     ]
    }
   ],
   "source": [
    "D = nx.read_multiline_adjlist('rede1.multiline-adjlist', create_using=nx.DiGraph)\n",
    "print(D)"
   ],
   "metadata": {
    "collapsed": false
   }
  },
  {
   "cell_type": "code",
   "execution_count": 33,
   "outputs": [
    {
     "data": {
      "text/plain": "<Figure size 640x480 with 1 Axes>",
      "image/png": "[encoded data removed]"
     },
     "metadata": {},
     "output_type": "display_data"
    }
   ],
   "source": [
    "nx.draw_networkx(D)"
   ],
   "metadata": {
    "collapsed": false
   }
  },
  {
   "cell_type": "markdown",
   "source": [
    "## Visualizando rede com pesos"
   ],
   "metadata": {
    "collapsed": false
   }
  },
  {
   "cell_type": "code",
   "execution_count": 35,
   "outputs": [],
   "source": [
    "edges = [\n",
    "    ('A', 'B', {'weight': 1}),\n",
    "    ('A', 'C', {'weight': 1}),\n",
    "    ('B', 'D', {'weight': 2}),\n",
    "]\n",
    "H = nx.Graph(edges)"
   ],
   "metadata": {
    "collapsed": false
   }
  },
  {
   "cell_type": "code",
   "execution_count": 36,
   "outputs": [
    {
     "data": {
      "text/plain": "<Figure size 640x480 with 1 Axes>",
      "image/png": "[encoded data removed]"
     },
     "metadata": {},
     "output_type": "display_data"
    }
   ],
   "source": [
    "pos = nx.spring_layout(H)\n",
    "labels = nx.get_edge_attributes(H, 'weight')\n",
    "nx.draw_networkx(H, pos)\n",
    "nx.draw_networkx_edge_labels(H, pos, edge_labels=labels);"
   ],
   "metadata": {
    "collapsed": false
   }
  },
  {
   "cell_type": "markdown",
   "source": [
    "## Layouts"
   ],
   "metadata": {
    "collapsed": false
   }
  },
  {
   "cell_type": "markdown",
   "source": [
    "Padrão"
   ],
   "metadata": {
    "collapsed": false
   }
  },
  {
   "cell_type": "code",
   "execution_count": 37,
   "outputs": [
    {
     "data": {
      "text/plain": "<Figure size 640x480 with 1 Axes>",
      "image/png": "[encoded data removed]"
     },
     "metadata": {},
     "output_type": "display_data"
    }
   ],
   "source": [
    "nx.draw_networkx(G)"
   ],
   "metadata": {
    "collapsed": false
   }
  },
  {
   "cell_type": "markdown",
   "source": [
    "Circular"
   ],
   "metadata": {
    "collapsed": false
   }
  },
  {
   "cell_type": "code",
   "execution_count": 38,
   "outputs": [
    {
     "data": {
      "text/plain": "<Figure size 640x480 with 1 Axes>",
      "image/png": "[encoded data removed]"
     },
     "metadata": {},
     "output_type": "display_data"
    }
   ],
   "source": [
    "nx.draw_circular(G, with_labels=True)"
   ],
   "metadata": {
    "collapsed": false
   }
  },
  {
   "cell_type": "markdown",
   "source": [
    "Kamada-Kawai"
   ],
   "metadata": {
    "collapsed": false
   }
  },
  {
   "cell_type": "code",
   "execution_count": 39,
   "outputs": [
    {
     "data": {
      "text/plain": "<Figure size 640x480 with 1 Axes>",
      "image/png": "[encoded data removed]"
     },
     "metadata": {},
     "output_type": "display_data"
    }
   ],
   "source": [
    "nx.draw_kamada_kawai(G, with_labels=True)"
   ],
   "metadata": {
    "collapsed": false
   }
  },
  {
   "cell_type": "markdown",
   "source": [
    "Shell"
   ],
   "metadata": {
    "collapsed": false
   }
  },
  {
   "cell_type": "code",
   "execution_count": 40,
   "outputs": [
    {
     "data": {
      "text/plain": "<Figure size 640x480 with 1 Axes>",
      "image/png": "[encoded data removed]"
     },
     "metadata": {},
     "output_type": "display_data"
    }
   ],
   "source": [
    "nx.draw_shell(G, with_labels=True)"
   ],
   "metadata": {
    "collapsed": false
   }
  },
  {
   "cell_type": "markdown",
   "source": [
    "Planar"
   ],
   "metadata": {
    "collapsed": false
   }
  },
  {
   "cell_type": "code",
   "execution_count": 41,
   "outputs": [
    {
     "data": {
      "text/plain": "<Figure size 640x480 with 1 Axes>",
      "image/png": "[encoded data removed]"
     },
     "metadata": {},
     "output_type": "display_data"
    }
   ],
   "source": [
    "nx.draw_planar(G, with_labels=True)"
   ],
   "metadata": {
    "collapsed": false
   }
  },
  {
   "cell_type": "markdown",
   "source": [
    "Spring"
   ],
   "metadata": {
    "collapsed": false
   }
  },
  {
   "cell_type": "code",
   "execution_count": 42,
   "outputs": [
    {
     "data": {
      "text/plain": "<Figure size 640x480 with 1 Axes>",
      "image/png": "[encoded data removed]"
     },
     "metadata": {},
     "output_type": "display_data"
    }
   ],
   "source": [
    "nx.draw_spring(G, with_labels=True)"
   ],
   "metadata": {
    "collapsed": false
   }
  }
 ],
 "metadata": {
  "kernelspec": {
   "display_name": "Python 3",
   "language": "python",
   "name": "python3"
  },
  "language_info": {
   "codemirror_mode": {
    "name": "ipython",
    "version": 2
   },
   "file_extension": ".py",
   "mimetype": "text/x-python",
   "name": "python",
   "nbconvert_exporter": "python",
   "pygments_lexer": "ipython2",
   "version": "2.7.6"
  }
 },
 "nbformat": 4,
 "nbformat_minor": 0
}
